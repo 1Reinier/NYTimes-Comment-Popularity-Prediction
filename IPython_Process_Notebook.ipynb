{
 "cells": [
  {
   "cell_type": "markdown",
   "metadata": {},
   "source": [
    "## Predicting a Successful New York Times Article Comment"
   ]
  },
  {
   "cell_type": "markdown",
   "metadata": {},
   "source": [
    "### IPython Process Book\n",
    "\n",
    "Welcome! Below you will find our iPython process book for our AC209 final project. This process book details our steps in developing our solution, how we collected the data, statistical methods we used, and the insights we found. This process book describes and documents what we explored at each step of our project. Specifically, this process book follows the following topics:\n",
    "\n",
    "\n",
    "<strong>Overview and Motivation</strong>: Provide an overview of the project goals and the motivation for it. Consider that this will be read by people who did not see your project proposal.\n",
    "\n",
    "<strong>Related Work</strong>: Anything that inspired you, such as a paper, a web site, or something we discussed in class.\n",
    "\n",
    "<strong>Initial Questions</strong>: What questions are you trying to answer? How did these questions evolve over the course of the project? What new questions did you consider in the course of your analysis?\n",
    "\n",
    "<strong>Data</strong>: Source, scraping method, cleanup, storage, etc.\n",
    "\n",
    "<strong>Exploratory Data Analysis</strong>: What visualizations did you use to look at your data in different ways? What are the different statistical methods you considered? Justify the decisions you made, and show any major changes to your ideas. How did you reach these conclusions?\n",
    "\n",
    "<strong>Final Analysis</strong>: What did you learn about the data? How did you answer the questions? How can you justify your answers?\n",
    "\n",
    "<strong>Presentation</strong>: Present your final results in a compelling and engaging way using text, visualizations, images, and videos on your project web site."
   ]
  },
  {
   "cell_type": "markdown",
   "metadata": {},
   "source": [
    "# Overview and Motivation"
   ]
  },
  {
   "cell_type": "markdown",
   "metadata": {},
   "source": [
    "As one of the most popular online news entities*, The New York Times (NYT) attracts thousands of unique visitors each day to its website, nytimes.com. Users who visit the site can provide their thoughts and reactions to published content in the form of comments. \n",
    "\n",
    "Users can interact with published comments, by either replying back or recommending a comment (i.e., similar to a 'like' on Facebook) as high quality. The very best comments are picked by NYT staff and marked as NYT picks. We noticed that highly recommended comments and NYT picks comments tend to be significantly longer, more thoughtful, and of high quality compared to the majority of other internet comments.\n",
    "\n",
    "We aim to examine the relationship between comment success (i.e., number of recommendations by other users and if selected as a NYT pick) and various features of the comment itself. This way, we will be able to produce a model that can predict the success of a given comment. This is important as the comment section enables visitors to further interact with NYT content as it can act as a forum for the exchange of ideas, thoughts, and opinions. \n",
    "\n",
    "Successful comments can become more visible on the site. Thus, understanding what could make a succesfful comment is important for both content providers and commentors. Providers can provide better comment guidelines and suggestions to its audience in an attempt to increase the quality of content exchanged on message boards. Additionally, since a NYT moderator must manually approve or reject each submitted comment, a provisional comment ranking system could enable a quicker means to approve good comments. An effective prediction system could also be used in an automated comment recommender to help steer users toward higher quality content. \n",
    "\n",
    "*http://www.journalism.org/media-indicators/digital-top-50-online-news-entities-2015/"
   ]
  },
  {
   "cell_type": "markdown",
   "metadata": {},
   "source": [
    "# Related Work"
   ]
  },
  {
   "cell_type": "markdown",
   "metadata": {},
   "source": [
    "We are all avid readers of the New York Times and find the comment section to be a great launching pad for further discussion and debate. Andrew was on the leadership board of The Harvard Crimson, so he has experienced journalism first-hand.\n",
    "\n",
    "While we have not encountered any work that specifically looks at what makes a successful comment on a news site such as that of the NYT, our work is built upon methods that are not new. Speciifcally, we aim to employ sentiment analysis, latent dirichlet allocation (LDA), and decision tree regression in our analysis. \n",
    "\n",
    "Insert summary and link to a sentiment analysis paper\n",
    "\n",
    "http://www.cs.columbia.edu/~julia/papers/Agarwaletal11.pdf\n",
    "\n",
    "http://www.cs.cornell.edu/home/llee/papers/cutsent.pdf\n",
    "\n",
    "Insert summary and link to LDA paper\n",
    "\n",
    "https://www.cs.princeton.edu/~blei/papers/BleiNgJordan2003.pdf\n",
    "\n",
    "http://ai.stanford.edu/~ang/papers/nips01-lda.pdf\n",
    "\n"
   ]
  },
  {
   "cell_type": "markdown",
   "metadata": {},
   "source": [
    "# Initial Questions"
   ]
  },
  {
   "cell_type": "markdown",
   "metadata": {},
   "source": [
    "Our main goal is to predict how many recommendations a comment it will receive and if it will be designated as a NYT pick based on the comment's text. Additionally, we aim to quantitatively examine what makes a successful and highly rated comment. For example, do longer comments fare better? Does average word or sentence length play a role? Does the sentiment of the comment have an effect?\n",
    "\n"
   ]
  },
  {
   "cell_type": "markdown",
   "metadata": {},
   "source": [
    "# Data"
   ]
  },
  {
   "cell_type": "markdown",
   "metadata": {},
   "source": [
    "We obtained the comment data from the New York Times' API. The API operates similarly to the Huffington Post API that was used earlier in the course. Initially, we planned to gather 300 comments per day (12 requests per day at 25 comments per request) from Nov 1, 2014 to Nov 15, 2015. However, we ran into issues caused by the API frequently and unpredictably returning a link to the [New York Times generic error page](http://www.nytimes.com/content/help/error.html) (note that this returns an HTTP response code of 200 (OK), in contrast to errors resulting from exceeding rate limits or server errors, which return 400, 404, or 500 response codes). Often, trying a specific query again would succeed, but for several dates, we found ourselves totally unable to extract any comments at all.\n",
    "\n",
    "The code below is highly robust against these sorts of errors. For each search, it tries four times to get a valid response, with short waits in between each try. Failing that, it moves on to the next date in the range, dumping that day's comments, if any are found, into a file. This ensures that if the script crashes during execution, it will lose at most one day's worth of results. This produces one JSON file for each day, so we then combine all these files into one large file. Finally, we put all the comments into a data frame."
   ]
  },
  {
   "cell_type": "code",
   "execution_count": 2,
   "metadata": {
    "collapsed": false
   },
   "outputs": [],
   "source": [
    "from datetime import date, datetime, timedelta\n",
    "import requests, time, simplejson, sys, re\n",
    "import numpy as np\n",
    "import pandas as pd\n",
    "from sklearn.linear_model import LinearRegression\n",
    "from sklearn.ensemble import RandomForestRegressor, RandomForestClassifier\n",
    "from sklearn.feature_extraction.text import CountVectorizer, TfidfVectorizer\n",
    "from sklearn.feature_extraction import text\n",
    "from sklearn.cross_validation import train_test_split\n",
    "from scipy.sparse import csr_matrix as csr\n",
    "pd.set_option('display.width', 500)\n",
    "pd.set_option('display.max_columns', 100)\n",
    "pd.set_option('display.notebook_repr_html', True)\n",
    "import matplotlib.pyplot as plt\n",
    "import seaborn as sns\n",
    "#import xgboost as xgb\n",
    "sns.set_style(\"darkgrid\")\n",
    "%matplotlib inline"
   ]
  },
  {
   "cell_type": "markdown",
   "metadata": {},
   "source": [
    "## Scraping"
   ]
  },
  {
   "cell_type": "code",
   "execution_count": null,
   "metadata": {
    "collapsed": true
   },
   "outputs": [],
   "source": [
    "# perdelta function taken from http://stackoverflow.com/a/10688060\n",
    "\n",
    "def perdelta(start, end, delta):\n",
    "    curr = start\n",
    "    while curr < end:\n",
    "        yield curr\n",
    "        curr += delta"
   ]
  },
  {
   "cell_type": "code",
   "execution_count": null,
   "metadata": {
    "collapsed": true
   },
   "outputs": [],
   "source": [
    "# Scrape 300 comments per day\n",
    "\n",
    "for da in perdelta(date(2015, 2, 21), date(2015, 11, 1), timedelta(days=1)):\n",
    "    comments = []\n",
    "    print da\n",
    "    skip = False\n",
    "    gotany = True\n",
    "    for i in range(12): # collect 25 comments at a time for 12 times. 25*12 = 300 comments\n",
    "        if not skip:\n",
    "            success = False\n",
    "            count = 0\n",
    "            url = ('http://api.nytimes.com/svc/community/v3/user-content/' +\n",
    "                   'by-date.json?api-key=KEY&date=' + str(da) +\n",
    "                   '&offset=' + str(25*i))\n",
    "            while not success:\n",
    "                comments_data = requests.get(url)\n",
    "                try:\n",
    "                    data = simplejson.loads(comments_data.content)\n",
    "                    success = True # go to the next offset\n",
    "                    for d in data['results']['comments']:\n",
    "                        comments.append(d)\n",
    "                    time.sleep(2)\n",
    "                except:\n",
    "                    print 'error on {}'.format(str(da))\n",
    "                    print url\n",
    "                    count += 1\n",
    "                    if count > 3:\n",
    "                        success = True # not really\n",
    "                        skip = True # just skip to the next day\n",
    "                        if i == 0:\n",
    "                            gotany = False # if we didn't get any comments from that day\n",
    "                    time.sleep(2)\n",
    "                    \n",
    "    if gotany:      \n",
    "        filestr = 'comments {}.json'.format(str(da))\n",
    "        with open(filestr, 'w') as f:\n",
    "            simplejson.dump(comments, f)"
   ]
  },
  {
   "cell_type": "code",
   "execution_count": null,
   "metadata": {
    "collapsed": true
   },
   "outputs": [],
   "source": [
    "# Combine all the JSON lists into single JSON file\n",
    "# Don't have to worry about failed comment collections thanks to try/except. If we didn't collect the comments\n",
    "# for a given day, the file load fails and it moves on.\n",
    "\n",
    "allcomments = []\n",
    "\n",
    "for d in perdelta(date(2014, 1, 1), date(2015, 12, 31), timedelta(days=1)):\n",
    "    try:\n",
    "        with open('json_files/comments {}.json'.format(str(d))) as f:\n",
    "            c = simplejson.load(f)\n",
    "            allcomments.extend(c)\n",
    "    except:\n",
    "        pass"
   ]
  },
  {
   "cell_type": "code",
   "execution_count": 3,
   "metadata": {
    "collapsed": true
   },
   "outputs": [],
   "source": [
    "# store/load the aggregated JSON file\n",
    "# with open ('comment_data.json', 'w') as f:\n",
    "#     simplejson.dump(allcomments, f)\n",
    "\n",
    "with open('comment_data.json', 'r') as f:\n",
    "    comments = simplejson.load(f)"
   ]
  },
  {
   "cell_type": "markdown",
   "metadata": {},
   "source": [
    "## Parsing the data"
   ]
  },
  {
   "cell_type": "code",
   "execution_count": 4,
   "metadata": {
    "collapsed": true
   },
   "outputs": [],
   "source": [
    "#Convert data into a dataframe \n",
    "commentsdicts=[]\n",
    "for c in comments:\n",
    "    d={}\n",
    "    d['approveDate']=c['approveDate']\n",
    "    d['assetID']=c['assetID']\n",
    "    d['assetURL']=c['assetURL']\n",
    "    d['commentBody']=c['commentBody'].replace(\"<br/>\",\" \")\n",
    "    #calculate word count by splitting on spaces. \n",
    "    #Account for weird grammar by turning double, triple etc... spaces into single spaces.\n",
    "    #d['nopunc']=c['commentBody'].replace(\"%\",\"\").replace(\"&\",\"\").replace(\"!\",\"\").replace(\"?\",\"\").replace(\",\",\"\").replace(\"'\",\"\").replace(\".\",\"\").replace(\":\",\"\").replace(\";\",\"\").replace(\"    \",\" \").replace(\"   \",\" \").replace(\"  \",\" \").replace(\" \",\"\")\n",
    "    d['commentWordCount'] = len(c['commentBody'].replace(\"<br/><br/>\",\" \").replace(\"    \",\" \").replace(\"   \",\" \").replace(\"  \",\" \").split(\" \"))\n",
    "    d['averageWordLength'] = float(len(c['commentBody'].replace(\"%\",\"\").replace(\"&\",\"\").replace(\"!\",\"\").replace(\"?\",\"\").replace(\",\",\"\").replace(\"'\",\"\").replace(\".\",\"\").replace(\":\",\"\").replace(\";\",\"\").replace(\"    \",\" \").replace(\"   \",\" \").replace(\"  \",\" \").replace(\" \",\"\")))/d[\"commentWordCount\"]\n",
    "    d['commentID']=c['commentID']\n",
    "    d['commentSequence']=c['commentSequence']\n",
    "    d['commentTitle']=c['commentTitle']\n",
    "    d['createDate']=c['createDate']\n",
    "    d['editorsSelection']=c['editorsSelection']\n",
    "    d['lft']=c['lft']\n",
    "    d['parentID']=c['parentID']\n",
    "    d['recommendationCount']=c['recommendationCount']\n",
    "    d['replies']=c['replies']\n",
    "    d['replyCount']=c['replyCount']\n",
    "    d['rgt']=c['rgt']\n",
    "    d['status']=c['status']\n",
    "    d['statusID']=c['statusID']    \n",
    "    d['updateDate']=c['updateDate']        \n",
    "    d['userDisplayName']=c['userDisplayName']\n",
    "    d['userID']=c['userID']\n",
    "    d['userLocation']=c['userLocation']\n",
    "    d['userTitle']=c['userTitle']\n",
    "    d['userURL']=c['userURL']    \n",
    "    commentsdicts.append(d)  \n",
    "commentsdf=pd.DataFrame(commentsdicts)"
   ]
  },
  {
   "cell_type": "code",
   "execution_count": 5,
   "metadata": {
    "collapsed": false
   },
   "outputs": [
    {
     "data": {
      "text/html": [
       "<div>\n",
       "<table border=\"1\" class=\"dataframe\">\n",
       "  <thead>\n",
       "    <tr style=\"text-align: right;\">\n",
       "      <th></th>\n",
       "      <th>approveDate</th>\n",
       "      <th>assetID</th>\n",
       "      <th>assetURL</th>\n",
       "      <th>averageWordLength</th>\n",
       "      <th>commentBody</th>\n",
       "      <th>commentID</th>\n",
       "      <th>commentSequence</th>\n",
       "      <th>commentTitle</th>\n",
       "      <th>commentWordCount</th>\n",
       "      <th>createDate</th>\n",
       "      <th>editorsSelection</th>\n",
       "      <th>lft</th>\n",
       "      <th>parentID</th>\n",
       "      <th>recommendationCount</th>\n",
       "      <th>replies</th>\n",
       "      <th>replyCount</th>\n",
       "      <th>rgt</th>\n",
       "      <th>status</th>\n",
       "      <th>statusID</th>\n",
       "      <th>updateDate</th>\n",
       "      <th>userDisplayName</th>\n",
       "      <th>userID</th>\n",
       "      <th>userLocation</th>\n",
       "      <th>userTitle</th>\n",
       "      <th>userURL</th>\n",
       "    </tr>\n",
       "  </thead>\n",
       "  <tbody>\n",
       "    <tr>\n",
       "      <th>0</th>\n",
       "      <td>1392613210</td>\n",
       "      <td>3394666</td>\n",
       "      <td>http://wordplay.blogs.nytimes.com/2014/02/15/p...</td>\n",
       "      <td>4.243243</td>\n",
       "      <td>pj, I love that your reply came up 3 times. Ha...</td>\n",
       "      <td>11177402</td>\n",
       "      <td>11177402</td>\n",
       "      <td>&lt;br/&gt;</td>\n",
       "      <td>37</td>\n",
       "      <td>1392613164</td>\n",
       "      <td>0</td>\n",
       "      <td>113</td>\n",
       "      <td>11175397</td>\n",
       "      <td>0</td>\n",
       "      <td>[]</td>\n",
       "      <td>0</td>\n",
       "      <td>114</td>\n",
       "      <td>approved</td>\n",
       "      <td>2</td>\n",
       "      <td>1392613210</td>\n",
       "      <td>Leapfinger</td>\n",
       "      <td>51284005</td>\n",
       "      <td>Durham, NC</td>\n",
       "      <td>NULL</td>\n",
       "      <td>NULL</td>\n",
       "    </tr>\n",
       "    <tr>\n",
       "      <th>1</th>\n",
       "      <td>1392613221</td>\n",
       "      <td>3394685</td>\n",
       "      <td>http://www.nytimes.com/2014/02/16/fashion/mill...</td>\n",
       "      <td>4.811594</td>\n",
       "      <td>I definitely agree that the reporter interview...</td>\n",
       "      <td>11177324</td>\n",
       "      <td>11177324</td>\n",
       "      <td>n/a</td>\n",
       "      <td>69</td>\n",
       "      <td>1392611149</td>\n",
       "      <td>0</td>\n",
       "      <td>408</td>\n",
       "      <td>NaN</td>\n",
       "      <td>26</td>\n",
       "      <td>{u'comments': [{u'recommendedFlag': 0, u'paren...</td>\n",
       "      <td>1</td>\n",
       "      <td>411</td>\n",
       "      <td>approved</td>\n",
       "      <td>2</td>\n",
       "      <td>1392613221</td>\n",
       "      <td>Casey L.</td>\n",
       "      <td>52213450</td>\n",
       "      <td>Tallahassee, FL</td>\n",
       "      <td>NULL</td>\n",
       "      <td>NULL</td>\n",
       "    </tr>\n",
       "    <tr>\n",
       "      <th>2</th>\n",
       "      <td>1392613225</td>\n",
       "      <td>3394685</td>\n",
       "      <td>http://www.nytimes.com/2014/02/16/fashion/mill...</td>\n",
       "      <td>3.600000</td>\n",
       "      <td>Well said, CF.  Well said.</td>\n",
       "      <td>11177331</td>\n",
       "      <td>11177331</td>\n",
       "      <td>&lt;br/&gt;</td>\n",
       "      <td>5</td>\n",
       "      <td>1392611304</td>\n",
       "      <td>0</td>\n",
       "      <td>303</td>\n",
       "      <td>11176805</td>\n",
       "      <td>8</td>\n",
       "      <td>[]</td>\n",
       "      <td>0</td>\n",
       "      <td>304</td>\n",
       "      <td>approved</td>\n",
       "      <td>2</td>\n",
       "      <td>1392613225</td>\n",
       "      <td>Dana</td>\n",
       "      <td>60343880</td>\n",
       "      <td>Tucson, AZ</td>\n",
       "      <td>NULL</td>\n",
       "      <td>NULL</td>\n",
       "    </tr>\n",
       "    <tr>\n",
       "      <th>3</th>\n",
       "      <td>1392613303</td>\n",
       "      <td>3394685</td>\n",
       "      <td>http://www.nytimes.com/2014/02/16/fashion/mill...</td>\n",
       "      <td>4.701149</td>\n",
       "      <td>Who are these people who are commenting, so sm...</td>\n",
       "      <td>11177382</td>\n",
       "      <td>11177382</td>\n",
       "      <td>&lt;br/&gt;</td>\n",
       "      <td>174</td>\n",
       "      <td>1392612709</td>\n",
       "      <td>0</td>\n",
       "      <td>412</td>\n",
       "      <td>NaN</td>\n",
       "      <td>104</td>\n",
       "      <td>{u'comments': [{u'recommendedFlag': 0, u'paren...</td>\n",
       "      <td>3</td>\n",
       "      <td>419</td>\n",
       "      <td>approved</td>\n",
       "      <td>2</td>\n",
       "      <td>1392613303</td>\n",
       "      <td>JM4</td>\n",
       "      <td>6671866</td>\n",
       "      <td>Bellingham, WA</td>\n",
       "      <td>NULL</td>\n",
       "      <td>NULL</td>\n",
       "    </tr>\n",
       "    <tr>\n",
       "      <th>4</th>\n",
       "      <td>1392613365</td>\n",
       "      <td>3394610</td>\n",
       "      <td>http://www.nytimes.com/2014/02/16/nyregion/add...</td>\n",
       "      <td>4.463415</td>\n",
       "      <td>To all you pain suffers, let me tell to you my...</td>\n",
       "      <td>11177369</td>\n",
       "      <td>11177369</td>\n",
       "      <td>&lt;br/&gt;</td>\n",
       "      <td>164</td>\n",
       "      <td>1392612359</td>\n",
       "      <td>0</td>\n",
       "      <td>294</td>\n",
       "      <td>NaN</td>\n",
       "      <td>2</td>\n",
       "      <td>{u'comments': [{u'recommendedFlag': 0, u'paren...</td>\n",
       "      <td>1</td>\n",
       "      <td>297</td>\n",
       "      <td>approved</td>\n",
       "      <td>2</td>\n",
       "      <td>1392613365</td>\n",
       "      <td>Vincent from Westchester</td>\n",
       "      <td>56242144</td>\n",
       "      <td>White Plains</td>\n",
       "      <td>NULL</td>\n",
       "      <td>NULL</td>\n",
       "    </tr>\n",
       "  </tbody>\n",
       "</table>\n",
       "</div>"
      ],
      "text/plain": [
       "  approveDate  assetID                                           assetURL  averageWordLength                                        commentBody  commentID  commentSequence commentTitle  commentWordCount  createDate  editorsSelection  lft  parentID  recommendationCount                                            replies  replyCount  rgt    status  statusID  updateDate           userDisplayName    userID     userLocation userTitle userURL\n",
       "0  1392613210  3394666  http://wordplay.blogs.nytimes.com/2014/02/15/p...           4.243243  pj, I love that your reply came up 3 times. Ha...   11177402         11177402        <br/>                37  1392613164                 0  113  11175397                    0                                                 []           0  114  approved         2  1392613210                Leapfinger  51284005       Durham, NC      NULL    NULL\n",
       "1  1392613221  3394685  http://www.nytimes.com/2014/02/16/fashion/mill...           4.811594  I definitely agree that the reporter interview...   11177324         11177324          n/a                69  1392611149                 0  408       NaN                   26  {u'comments': [{u'recommendedFlag': 0, u'paren...           1  411  approved         2  1392613221                  Casey L.  52213450  Tallahassee, FL      NULL    NULL\n",
       "2  1392613225  3394685  http://www.nytimes.com/2014/02/16/fashion/mill...           3.600000                         Well said, CF.  Well said.   11177331         11177331        <br/>                 5  1392611304                 0  303  11176805                    8                                                 []           0  304  approved         2  1392613225                      Dana  60343880       Tucson, AZ      NULL    NULL\n",
       "3  1392613303  3394685  http://www.nytimes.com/2014/02/16/fashion/mill...           4.701149  Who are these people who are commenting, so sm...   11177382         11177382        <br/>               174  1392612709                 0  412       NaN                  104  {u'comments': [{u'recommendedFlag': 0, u'paren...           3  419  approved         2  1392613303                       JM4   6671866   Bellingham, WA      NULL    NULL\n",
       "4  1392613365  3394610  http://www.nytimes.com/2014/02/16/nyregion/add...           4.463415  To all you pain suffers, let me tell to you my...   11177369         11177369        <br/>               164  1392612359                 0  294       NaN                    2  {u'comments': [{u'recommendedFlag': 0, u'paren...           1  297  approved         2  1392613365  Vincent from Westchester  56242144     White Plains      NULL    NULL"
      ]
     },
     "execution_count": 5,
     "metadata": {},
     "output_type": "execute_result"
    }
   ],
   "source": [
    "commentsdf.head()"
   ]
  },
  {
   "cell_type": "markdown",
   "metadata": {},
   "source": [
    "#  Exploratory Analysis"
   ]
  },
  {
   "cell_type": "markdown",
   "metadata": {},
   "source": [
    "The first thing we did in our exploratory analysis was to call the describe method to get an initial read on what we were working with. From the below, we can see that we have ~180,000 comments, where the average comment is approximatley 83 words in length. Based on our number of comments per user ID calculations, we see that the majority of users only write a single comment (though, there is one outlier who has written 820!). In terms of recommendation count, we see that the average comment receives 24 recommendations and the maximum number of recommendations received by any single comment was 3064. With respect to the editors selection designation, a binary indicator, we see that the mean is 0.026, which implies that just under 3% of our comments receive the editors selection designation.  "
   ]
  },
  {
   "cell_type": "markdown",
   "metadata": {},
   "source": [
    "#### Describe the data"
   ]
  },
  {
   "cell_type": "code",
   "execution_count": 6,
   "metadata": {
    "collapsed": false
   },
   "outputs": [
    {
     "data": {
      "text/plain": [
       "count    179650.000000\n",
       "mean         23.737050\n",
       "std          75.944896\n",
       "min           0.000000\n",
       "25%           1.000000\n",
       "50%           5.000000\n",
       "75%          16.000000\n",
       "max        3064.000000\n",
       "Name: recommendationCount, dtype: float64"
      ]
     },
     "execution_count": 6,
     "metadata": {},
     "output_type": "execute_result"
    }
   ],
   "source": [
    "#describe the recommendation count data\n",
    "commentsdf[\"recommendationCount\"].describe()"
   ]
  },
  {
   "cell_type": "code",
   "execution_count": 7,
   "metadata": {
    "collapsed": false
   },
   "outputs": [
    {
     "data": {
      "text/plain": [
       "count    179650.000000\n",
       "mean          0.026680\n",
       "std           0.161146\n",
       "min           0.000000\n",
       "25%           0.000000\n",
       "50%           0.000000\n",
       "75%           0.000000\n",
       "max           1.000000\n",
       "Name: editorsSelection, dtype: float64"
      ]
     },
     "execution_count": 7,
     "metadata": {},
     "output_type": "execute_result"
    }
   ],
   "source": [
    "#describe the editor selection data\n",
    "commentsdf[\"editorsSelection\"].describe()"
   ]
  },
  {
   "cell_type": "code",
   "execution_count": 8,
   "metadata": {
    "collapsed": false
   },
   "outputs": [
    {
     "data": {
      "text/plain": [
       "count    179650.000000\n",
       "mean         81.849179\n",
       "std          67.587734\n",
       "min           1.000000\n",
       "25%          30.000000\n",
       "50%          61.000000\n",
       "75%         114.000000\n",
       "max         699.000000\n",
       "Name: commentWordCount, dtype: float64"
      ]
     },
     "execution_count": 8,
     "metadata": {},
     "output_type": "execute_result"
    }
   ],
   "source": [
    "#describe the comment word count data\n",
    "commentsdf[\"commentWordCount\"].describe()"
   ]
  },
  {
   "cell_type": "code",
   "execution_count": 9,
   "metadata": {
    "collapsed": false
   },
   "outputs": [
    {
     "name": "stdout",
     "output_type": "stream",
     "text": [
      "mean number of comments per user:  3.84056266969\n",
      "median number of comments per user:  1.0\n",
      "minimum number of comments per user:  1\n",
      "maximum number of comments per user:  820\n"
     ]
    }
   ],
   "source": [
    "#calculate number of comments per user\n",
    "groupByUser = commentsdf.groupby(\"userID\")\n",
    "commentsPerUser = [i for i in groupByUser.count().commentID]\n",
    "print \"mean number of comments per user: \", np.mean(commentsPerUser)\n",
    "print \"median number of comments per user: \", np.median(commentsPerUser)\n",
    "print \"minimum number of comments per user: \", min(commentsPerUser)\n",
    "print \"maximum number of comments per user: \", max(commentsPerUser)"
   ]
  },
  {
   "cell_type": "markdown",
   "metadata": {},
   "source": [
    "#### Plot Histograms"
   ]
  },
  {
   "cell_type": "markdown",
   "metadata": {},
   "source": [
    "Next we plotted several histograms to gain a better underestanding of the data. The plots support the information above, where 75% of of comments have 16 or fewer comments."
   ]
  },
  {
   "cell_type": "code",
   "execution_count": 10,
   "metadata": {
    "collapsed": false
   },
   "outputs": [
    {
     "data": {
      "image/png": "[encoded data removed]",
      "text/plain": [
       "<matplotlib.figure.Figure at 0x12e2d1750>"
      ]
     },
     "metadata": {},
     "output_type": "display_data"
    }
   ],
   "source": [
    "#plot histogram of number of recommendations a comment receives\n",
    "\n",
    "plt.hist(commentsdf[\"recommendationCount\"],alpha = .7)\n",
    "plt.title(\"Recommendations per Comment Histogram\")\n",
    "plt.ylabel(\"Count\")\n",
    "plt.xlabel(\"No. of Recommendations\")\n",
    "plt.show()"
   ]
  },
  {
   "cell_type": "code",
   "execution_count": 11,
   "metadata": {
    "collapsed": false
   },
   "outputs": [
    {
     "data": {
      "image/png": "[encoded data removed]",
      "text/plain": [
       "<matplotlib.figure.Figure at 0x112ad9f10>"
      ]
     },
     "metadata": {},
     "output_type": "display_data"
    }
   ],
   "source": [
    "#focus our histogram to recommendation counts less than 1000 since the above plot is not very informative\n",
    "\n",
    "focusedDf = commentsdf[commentsdf[\"recommendationCount\"] < 1000]\n",
    "plt.hist(focusedDf.recommendationCount, bins=20, alpha = .7)\n",
    "plt.title(\"Recommendations per Comment Histogram (<1000)\")\n",
    "plt.ylabel(\"Count\")\n",
    "plt.xlabel(\"No. of Recommendations\")\n",
    "plt.show()"
   ]
  },
  {
   "cell_type": "code",
   "execution_count": 12,
   "metadata": {
    "collapsed": false
   },
   "outputs": [
    {
     "data": {
      "image/png": "[encoded data removed]",
      "text/plain": [
       "<matplotlib.figure.Figure at 0x112d5fd90>"
      ]
     },
     "metadata": {},
     "output_type": "display_data"
    }
   ],
   "source": [
    "#focus our histogram even more to recommendation counts less than 50 for best visibility into the majority of the data\n",
    "\n",
    "focusedDf = commentsdf[commentsdf[\"recommendationCount\"] < 50]\n",
    "plt.hist(focusedDf.recommendationCount, bins=20,alpha=.7)\n",
    "plt.axvline(23.73,color = 'r',alpha = .5,label = 'Mean = 23')\n",
    "plt.axvline(5,color = 'g',alpha = .5,label = 'Median =5')\n",
    "plt.title(\"Recommendations per Comment Histogram (<50)\")\n",
    "plt.ylabel(\"Count\")\n",
    "plt.xlabel(\"No. of Recommendations\")\n",
    "plt.legend()\n",
    "plt.show()"
   ]
  },
  {
   "cell_type": "code",
   "execution_count": 13,
   "metadata": {
    "collapsed": false
   },
   "outputs": [
    {
     "data": {
      "image/png": "[encoded data removed]",
      "text/plain": [
       "<matplotlib.figure.Figure at 0x112d4abd0>"
      ]
     },
     "metadata": {},
     "output_type": "display_data"
    }
   ],
   "source": [
    "#plot histogram of comment word count to get a sense of how long comments are\n",
    "\n",
    "plt.hist(commentsdf[\"commentWordCount\"], bins=20, alpha = .7)\n",
    "plt.title(\"Comment Word Count Histogram\")\n",
    "plt.axvline(81.32,color = 'r',alpha = .5,label = 'Mean = 81')\n",
    "plt.axvline(61,color = 'g',alpha = .5,label = 'Median = 62')\n",
    "plt.ylabel(\"Count\")\n",
    "plt.xlabel(\"No. of Words\")\n",
    "plt.legend()\n",
    "plt.show()"
   ]
  },
  {
   "cell_type": "code",
   "execution_count": 14,
   "metadata": {
    "collapsed": false
   },
   "outputs": [
    {
     "data": {
      "image/png": "[encoded data removed]",
      "text/plain": [
       "<matplotlib.figure.Figure at 0x112d1df90>"
      ]
     },
     "metadata": {},
     "output_type": "display_data"
    }
   ],
   "source": [
    "# Pairplot with hue\n",
    "sns.pairplot(commentsdf, x_vars=['commentWordCount'], y_vars=['recommendationCount'], \n",
    "             hue='editorsSelection', hue_order=[1, 0], size=7);\n",
    "plt.xlim(0, 300);\n",
    "plt.ylim(0, 3250);"
   ]
  },
  {
   "cell_type": "markdown",
   "metadata": {},
   "source": [
    "# Feature Selection"
   ]
  },
  {
   "cell_type": "markdown",
   "metadata": {},
   "source": [
    "We use a variety of features, including\n",
    "* number of words per comment (Andrew)\n",
    "* avg. word length (Andrew)\n",
    "* sentiment of comment (Reinier)\n",
    "* tf-idf (Jonathan)\n",
    "* binary bag of words (Jonathan)"
   ]
  },
  {
   "cell_type": "code",
   "execution_count": 15,
   "metadata": {
    "collapsed": true
   },
   "outputs": [],
   "source": [
    "# X = N x D (N is number of comments, D is number of features)\n",
    "# Each person should produce an N x D' matrix where D' is the number of features generated by their analysis.\n",
    "# Then we np.concatenate the matrices together."
   ]
  },
  {
   "cell_type": "markdown",
   "metadata": {},
   "source": [
    "### Sentiment analysis"
   ]
  },
  {
   "cell_type": "code",
   "execution_count": 16,
   "metadata": {
    "collapsed": false
   },
   "outputs": [
    {
     "data": {
      "text/html": [
       "<div>\n",
       "<table border=\"1\" class=\"dataframe\">\n",
       "  <thead>\n",
       "    <tr style=\"text-align: right;\">\n",
       "      <th></th>\n",
       "      <th>POS</th>\n",
       "      <th>ID</th>\n",
       "      <th>PosScore</th>\n",
       "      <th>NegScore</th>\n",
       "      <th>SynsetTerms</th>\n",
       "      <th>Gloss</th>\n",
       "    </tr>\n",
       "  </thead>\n",
       "  <tbody>\n",
       "    <tr>\n",
       "      <th>0</th>\n",
       "      <td>a</td>\n",
       "      <td>1740</td>\n",
       "      <td>0.125</td>\n",
       "      <td>0.00</td>\n",
       "      <td>able#1</td>\n",
       "      <td>(usually followed by `to') having the necessar...</td>\n",
       "    </tr>\n",
       "    <tr>\n",
       "      <th>1</th>\n",
       "      <td>a</td>\n",
       "      <td>2098</td>\n",
       "      <td>0.000</td>\n",
       "      <td>0.75</td>\n",
       "      <td>unable#1</td>\n",
       "      <td>(usually followed by `to') not having the nece...</td>\n",
       "    </tr>\n",
       "    <tr>\n",
       "      <th>2</th>\n",
       "      <td>a</td>\n",
       "      <td>2312</td>\n",
       "      <td>0.000</td>\n",
       "      <td>0.00</td>\n",
       "      <td>dorsal#2 abaxial#1</td>\n",
       "      <td>facing away from the axis of an organ or organ...</td>\n",
       "    </tr>\n",
       "    <tr>\n",
       "      <th>3</th>\n",
       "      <td>a</td>\n",
       "      <td>2527</td>\n",
       "      <td>0.000</td>\n",
       "      <td>0.00</td>\n",
       "      <td>ventral#2 adaxial#1</td>\n",
       "      <td>nearest to or facing toward the axis of an org...</td>\n",
       "    </tr>\n",
       "    <tr>\n",
       "      <th>4</th>\n",
       "      <td>a</td>\n",
       "      <td>2730</td>\n",
       "      <td>0.000</td>\n",
       "      <td>0.00</td>\n",
       "      <td>acroscopic#1</td>\n",
       "      <td>facing or on the side toward the apex</td>\n",
       "    </tr>\n",
       "  </tbody>\n",
       "</table>\n",
       "</div>"
      ],
      "text/plain": [
       "  POS    ID  PosScore  NegScore          SynsetTerms                                              Gloss\n",
       "0   a  1740     0.125      0.00               able#1  (usually followed by `to') having the necessar...\n",
       "1   a  2098     0.000      0.75             unable#1  (usually followed by `to') not having the nece...\n",
       "2   a  2312     0.000      0.00   dorsal#2 abaxial#1  facing away from the axis of an organ or organ...\n",
       "3   a  2527     0.000      0.00  ventral#2 adaxial#1  nearest to or facing toward the axis of an org...\n",
       "4   a  2730     0.000      0.00         acroscopic#1              facing or on the side toward the apex"
      ]
     },
     "execution_count": 16,
     "metadata": {},
     "output_type": "execute_result"
    }
   ],
   "source": [
    "# Read in the SentiWordNet database (without comments at the top)\n",
    "\n",
    "sentimentdf = pd.read_csv('SentiWordNet_prepared.txt', sep='\\t')  # We stripped comments and the last newline\n",
    "sentimentdf.head()"
   ]
  },
  {
   "cell_type": "code",
   "execution_count": 17,
   "metadata": {
    "collapsed": false
   },
   "outputs": [
    {
     "data": {
      "text/html": [
       "<div>\n",
       "<table border=\"1\" class=\"dataframe\">\n",
       "  <thead>\n",
       "    <tr style=\"text-align: right;\">\n",
       "      <th></th>\n",
       "      <th>positive</th>\n",
       "      <th>negative</th>\n",
       "    </tr>\n",
       "    <tr>\n",
       "      <th>word</th>\n",
       "      <th></th>\n",
       "      <th></th>\n",
       "    </tr>\n",
       "  </thead>\n",
       "  <tbody>\n",
       "    <tr>\n",
       "      <th>'hood</th>\n",
       "      <td>0</td>\n",
       "      <td>0.375</td>\n",
       "    </tr>\n",
       "    <tr>\n",
       "      <th>'s_gravenhage</th>\n",
       "      <td>0</td>\n",
       "      <td>0.000</td>\n",
       "    </tr>\n",
       "    <tr>\n",
       "      <th>'tween</th>\n",
       "      <td>0</td>\n",
       "      <td>0.000</td>\n",
       "    </tr>\n",
       "    <tr>\n",
       "      <th>'tween_decks</th>\n",
       "      <td>0</td>\n",
       "      <td>0.000</td>\n",
       "    </tr>\n",
       "  </tbody>\n",
       "</table>\n",
       "</div>"
      ],
      "text/plain": [
       "               positive  negative\n",
       "word                             \n",
       "'hood                 0     0.375\n",
       "'s_gravenhage         0     0.000\n",
       "'tween                0     0.000\n",
       "'tween_decks          0     0.000"
      ]
     },
     "execution_count": 17,
     "metadata": {},
     "output_type": "execute_result"
    }
   ],
   "source": [
    "# Clean up different meanings of words into one (the mean score for a word)\n",
    "\n",
    "sentimentdf.SynsetTerms = sentimentdf.SynsetTerms.apply(lambda words: words.split(' '))\n",
    "sentimentdf.SynsetTerms = sentimentdf.SynsetTerms.apply(lambda words: [word[:-2] for word in words])\n",
    "sentimentdf.drop(['POS', 'ID', 'Gloss'], axis=1, inplace=True)\n",
    "\n",
    "rebuilt = []\n",
    "\n",
    "for row in sentimentdf.as_matrix():\n",
    "    positive = row[0]\n",
    "    negative = row[1]\n",
    "    words = row[2]\n",
    "    for word in words:\n",
    "        entry = (positive, negative, word)\n",
    "        rebuilt.append(entry)\n",
    "\n",
    "sentimentdf = pd.DataFrame(rebuilt, columns=['positive', 'negative', 'word'])\n",
    "sentimentdf = sentimentdf.groupby('word').agg({'positive': np.mean, 'negative': np.mean})\n",
    "sentimentdf.head(4)"
   ]
  },
  {
   "cell_type": "code",
   "execution_count": 18,
   "metadata": {
    "collapsed": false
   },
   "outputs": [],
   "source": [
    "# Define function to calculate score per comment (avg. positive and negative scores over words)\n",
    "\n",
    "sentiment = sentimentdf.to_dict(orient='index')\n",
    "delete_characters = re.compile('\\W')\n",
    "\n",
    "def positive_score(comment):\n",
    "    commentlist = comment.split(' ')\n",
    "    commentlist = map(lambda s: re.sub(delete_characters, '', s).lower(), commentlist)\n",
    "    score = 0.0\n",
    "    number = 0\n",
    "    for word in commentlist:\n",
    "        if word in sentiment:\n",
    "            score +=sentiment[word]['positive']\n",
    "            number += 1\n",
    "    if number > 0:\n",
    "        return score/number\n",
    "    else:\n",
    "        return 0\n",
    "\n",
    "def negative_score(comment):\n",
    "    commentlist = comment.split(' ')\n",
    "    commentlist = map(lambda s: re.sub(delete_characters, '', s).lower(), commentlist)\n",
    "    score = 0.0\n",
    "    number = 0\n",
    "    for word in commentlist:\n",
    "        if word in sentiment:\n",
    "            score +=sentiment[word]['negative']\n",
    "            number += 1\n",
    "    if number > 0:\n",
    "        return score/number\n",
    "    else:\n",
    "        return 0"
   ]
  },
  {
   "cell_type": "code",
   "execution_count": 19,
   "metadata": {
    "collapsed": false
   },
   "outputs": [
    {
     "name": "stdout",
     "output_type": "stream",
     "text": [
      "{'positive': 0.4375, 'negative': 0.125}\n"
     ]
    }
   ],
   "source": [
    "print sentiment['exquisite']"
   ]
  },
  {
   "cell_type": "markdown",
   "metadata": {},
   "source": [
    "#### Application to `commentsdf`"
   ]
  },
  {
   "cell_type": "code",
   "execution_count": 20,
   "metadata": {
    "collapsed": false
   },
   "outputs": [
    {
     "data": {
      "text/html": [
       "<div>\n",
       "<table border=\"1\" class=\"dataframe\">\n",
       "  <thead>\n",
       "    <tr style=\"text-align: right;\">\n",
       "      <th></th>\n",
       "      <th>approveDate</th>\n",
       "      <th>assetID</th>\n",
       "      <th>assetURL</th>\n",
       "      <th>averageWordLength</th>\n",
       "      <th>commentBody</th>\n",
       "      <th>commentID</th>\n",
       "      <th>commentSequence</th>\n",
       "      <th>commentTitle</th>\n",
       "      <th>commentWordCount</th>\n",
       "      <th>createDate</th>\n",
       "      <th>editorsSelection</th>\n",
       "      <th>lft</th>\n",
       "      <th>parentID</th>\n",
       "      <th>recommendationCount</th>\n",
       "      <th>replies</th>\n",
       "      <th>replyCount</th>\n",
       "      <th>rgt</th>\n",
       "      <th>status</th>\n",
       "      <th>statusID</th>\n",
       "      <th>updateDate</th>\n",
       "      <th>userDisplayName</th>\n",
       "      <th>userID</th>\n",
       "      <th>userLocation</th>\n",
       "      <th>userTitle</th>\n",
       "      <th>userURL</th>\n",
       "      <th>positive_sentiment</th>\n",
       "      <th>negative_sentiment</th>\n",
       "    </tr>\n",
       "  </thead>\n",
       "  <tbody>\n",
       "    <tr>\n",
       "      <th>0</th>\n",
       "      <td>1392613210</td>\n",
       "      <td>3394666</td>\n",
       "      <td>http://wordplay.blogs.nytimes.com/2014/02/15/p...</td>\n",
       "      <td>4.243243</td>\n",
       "      <td>pj, I love that your reply came up 3 times. Ha...</td>\n",
       "      <td>11177402</td>\n",
       "      <td>11177402</td>\n",
       "      <td>&lt;br/&gt;</td>\n",
       "      <td>37</td>\n",
       "      <td>1392613164</td>\n",
       "      <td>0</td>\n",
       "      <td>113</td>\n",
       "      <td>11175397</td>\n",
       "      <td>0</td>\n",
       "      <td>[]</td>\n",
       "      <td>0</td>\n",
       "      <td>114</td>\n",
       "      <td>approved</td>\n",
       "      <td>2</td>\n",
       "      <td>1392613210</td>\n",
       "      <td>Leapfinger</td>\n",
       "      <td>51284005</td>\n",
       "      <td>Durham, NC</td>\n",
       "      <td>NULL</td>\n",
       "      <td>NULL</td>\n",
       "      <td>0.068522</td>\n",
       "      <td>0.020037</td>\n",
       "    </tr>\n",
       "    <tr>\n",
       "      <th>1</th>\n",
       "      <td>1392613221</td>\n",
       "      <td>3394685</td>\n",
       "      <td>http://www.nytimes.com/2014/02/16/fashion/mill...</td>\n",
       "      <td>4.811594</td>\n",
       "      <td>I definitely agree that the reporter interview...</td>\n",
       "      <td>11177324</td>\n",
       "      <td>11177324</td>\n",
       "      <td>n/a</td>\n",
       "      <td>69</td>\n",
       "      <td>1392611149</td>\n",
       "      <td>0</td>\n",
       "      <td>408</td>\n",
       "      <td>NaN</td>\n",
       "      <td>26</td>\n",
       "      <td>{u'comments': [{u'recommendedFlag': 0, u'paren...</td>\n",
       "      <td>1</td>\n",
       "      <td>411</td>\n",
       "      <td>approved</td>\n",
       "      <td>2</td>\n",
       "      <td>1392613221</td>\n",
       "      <td>Casey L.</td>\n",
       "      <td>52213450</td>\n",
       "      <td>Tallahassee, FL</td>\n",
       "      <td>NULL</td>\n",
       "      <td>NULL</td>\n",
       "      <td>0.075430</td>\n",
       "      <td>0.033953</td>\n",
       "    </tr>\n",
       "    <tr>\n",
       "      <th>2</th>\n",
       "      <td>1392613225</td>\n",
       "      <td>3394685</td>\n",
       "      <td>http://www.nytimes.com/2014/02/16/fashion/mill...</td>\n",
       "      <td>3.600000</td>\n",
       "      <td>Well said, CF.  Well said.</td>\n",
       "      <td>11177331</td>\n",
       "      <td>11177331</td>\n",
       "      <td>&lt;br/&gt;</td>\n",
       "      <td>5</td>\n",
       "      <td>1392611304</td>\n",
       "      <td>0</td>\n",
       "      <td>303</td>\n",
       "      <td>11176805</td>\n",
       "      <td>8</td>\n",
       "      <td>[]</td>\n",
       "      <td>0</td>\n",
       "      <td>304</td>\n",
       "      <td>approved</td>\n",
       "      <td>2</td>\n",
       "      <td>1392613225</td>\n",
       "      <td>Dana</td>\n",
       "      <td>60343880</td>\n",
       "      <td>Tucson, AZ</td>\n",
       "      <td>NULL</td>\n",
       "      <td>NULL</td>\n",
       "      <td>0.125000</td>\n",
       "      <td>0.002778</td>\n",
       "    </tr>\n",
       "    <tr>\n",
       "      <th>3</th>\n",
       "      <td>1392613303</td>\n",
       "      <td>3394685</td>\n",
       "      <td>http://www.nytimes.com/2014/02/16/fashion/mill...</td>\n",
       "      <td>4.701149</td>\n",
       "      <td>Who are these people who are commenting, so sm...</td>\n",
       "      <td>11177382</td>\n",
       "      <td>11177382</td>\n",
       "      <td>&lt;br/&gt;</td>\n",
       "      <td>174</td>\n",
       "      <td>1392612709</td>\n",
       "      <td>0</td>\n",
       "      <td>412</td>\n",
       "      <td>NaN</td>\n",
       "      <td>104</td>\n",
       "      <td>{u'comments': [{u'recommendedFlag': 0, u'paren...</td>\n",
       "      <td>3</td>\n",
       "      <td>419</td>\n",
       "      <td>approved</td>\n",
       "      <td>2</td>\n",
       "      <td>1392613303</td>\n",
       "      <td>JM4</td>\n",
       "      <td>6671866</td>\n",
       "      <td>Bellingham, WA</td>\n",
       "      <td>NULL</td>\n",
       "      <td>NULL</td>\n",
       "      <td>0.065380</td>\n",
       "      <td>0.040202</td>\n",
       "    </tr>\n",
       "    <tr>\n",
       "      <th>4</th>\n",
       "      <td>1392613365</td>\n",
       "      <td>3394610</td>\n",
       "      <td>http://www.nytimes.com/2014/02/16/nyregion/add...</td>\n",
       "      <td>4.463415</td>\n",
       "      <td>To all you pain suffers, let me tell to you my...</td>\n",
       "      <td>11177369</td>\n",
       "      <td>11177369</td>\n",
       "      <td>&lt;br/&gt;</td>\n",
       "      <td>164</td>\n",
       "      <td>1392612359</td>\n",
       "      <td>0</td>\n",
       "      <td>294</td>\n",
       "      <td>NaN</td>\n",
       "      <td>2</td>\n",
       "      <td>{u'comments': [{u'recommendedFlag': 0, u'paren...</td>\n",
       "      <td>1</td>\n",
       "      <td>297</td>\n",
       "      <td>approved</td>\n",
       "      <td>2</td>\n",
       "      <td>1392613365</td>\n",
       "      <td>Vincent from Westchester</td>\n",
       "      <td>56242144</td>\n",
       "      <td>White Plains</td>\n",
       "      <td>NULL</td>\n",
       "      <td>NULL</td>\n",
       "      <td>0.053066</td>\n",
       "      <td>0.088692</td>\n",
       "    </tr>\n",
       "  </tbody>\n",
       "</table>\n",
       "</div>"
      ],
      "text/plain": [
       "  approveDate  assetID                                           assetURL  averageWordLength                                        commentBody  commentID  commentSequence commentTitle  commentWordCount  createDate  editorsSelection  lft  parentID  recommendationCount                                            replies  replyCount  rgt    status  statusID  updateDate           userDisplayName    userID     userLocation userTitle userURL  positive_sentiment  negative_sentiment\n",
       "0  1392613210  3394666  http://wordplay.blogs.nytimes.com/2014/02/15/p...           4.243243  pj, I love that your reply came up 3 times. Ha...   11177402         11177402        <br/>                37  1392613164                 0  113  11175397                    0                                                 []           0  114  approved         2  1392613210                Leapfinger  51284005       Durham, NC      NULL    NULL            0.068522            0.020037\n",
       "1  1392613221  3394685  http://www.nytimes.com/2014/02/16/fashion/mill...           4.811594  I definitely agree that the reporter interview...   11177324         11177324          n/a                69  1392611149                 0  408       NaN                   26  {u'comments': [{u'recommendedFlag': 0, u'paren...           1  411  approved         2  1392613221                  Casey L.  52213450  Tallahassee, FL      NULL    NULL            0.075430            0.033953\n",
       "2  1392613225  3394685  http://www.nytimes.com/2014/02/16/fashion/mill...           3.600000                         Well said, CF.  Well said.   11177331         11177331        <br/>                 5  1392611304                 0  303  11176805                    8                                                 []           0  304  approved         2  1392613225                      Dana  60343880       Tucson, AZ      NULL    NULL            0.125000            0.002778\n",
       "3  1392613303  3394685  http://www.nytimes.com/2014/02/16/fashion/mill...           4.701149  Who are these people who are commenting, so sm...   11177382         11177382        <br/>               174  1392612709                 0  412       NaN                  104  {u'comments': [{u'recommendedFlag': 0, u'paren...           3  419  approved         2  1392613303                       JM4   6671866   Bellingham, WA      NULL    NULL            0.065380            0.040202\n",
       "4  1392613365  3394610  http://www.nytimes.com/2014/02/16/nyregion/add...           4.463415  To all you pain suffers, let me tell to you my...   11177369         11177369        <br/>               164  1392612359                 0  294       NaN                    2  {u'comments': [{u'recommendedFlag': 0, u'paren...           1  297  approved         2  1392613365  Vincent from Westchester  56242144     White Plains      NULL    NULL            0.053066            0.088692"
      ]
     },
     "execution_count": 20,
     "metadata": {},
     "output_type": "execute_result"
    }
   ],
   "source": [
    "# Now we calculate the sentiment score for each comment\n",
    "\n",
    "commentsdf['positive_sentiment'] = commentsdf.commentBody.apply(positive_score)\n",
    "commentsdf['negative_sentiment'] = commentsdf.commentBody.apply(negative_score)\n",
    "commentsdf.head()\n",
    "\n",
    "# Scroll to the right to see scores -->"
   ]
  },
  {
   "cell_type": "code",
   "execution_count": 21,
   "metadata": {
    "collapsed": false
   },
   "outputs": [
    {
     "data": {
      "image/png": "[encoded data removed]",
      "text/plain": [
       "<matplotlib.figure.Figure at 0x1149e1550>"
      ]
     },
     "metadata": {},
     "output_type": "display_data"
    }
   ],
   "source": [
    "# Checking if the feature looks valid\n",
    "\n",
    "pair = sns.pairplot(commentsdf, x_vars=['positive_sentiment', 'negative_sentiment'], \n",
    "                    y_vars=['recommendationCount'], hue='editorsSelection', size=7);\n",
    "axes = pair.axes;\n",
    "axes[0, 0].set_xlim(0, 1);\n",
    "axes[0, 0].set_ylim(0, 3250);\n",
    "axes[0, 1].set_xlim(0, 1);\n",
    "axes[0, 1].set_ylim(0, 3250);"
   ]
  },
  {
   "cell_type": "markdown",
   "metadata": {},
   "source": [
    "Most recommendations occur for posts with a 0.1 sentiment scrore, either positive or negative."
   ]
  },
  {
   "cell_type": "code",
   "execution_count": 22,
   "metadata": {
    "collapsed": false
   },
   "outputs": [
    {
     "data": {
      "image/png": "[encoded data removed]",
      "text/plain": [
       "<matplotlib.figure.Figure at 0x1149d6310>"
      ]
     },
     "metadata": {},
     "output_type": "display_data"
    }
   ],
   "source": [
    "sns.regplot('positive_sentiment', 'negative_sentiment', data=commentsdf);"
   ]
  },
  {
   "cell_type": "markdown",
   "metadata": {},
   "source": [
    "The features are not strongly correlated, which is good."
   ]
  },
  {
   "cell_type": "markdown",
   "metadata": {},
   "source": [
    "### Binary Bag of Words"
   ]
  },
  {
   "cell_type": "markdown",
   "metadata": {},
   "source": [
    "We use a binary bag of words feature that encodes which of the 100 most popular words appear in a comment."
   ]
  },
  {
   "cell_type": "code",
   "execution_count": 23,
   "metadata": {
    "collapsed": false
   },
   "outputs": [
    {
     "name": "stdout",
     "output_type": "stream",
     "text": [
      "[u'want', u'wrong', u'problem', u'year', u'american', u'times', u'point', u'today', u'like', u'case', u'long', u'best', u'life', u'people', u'states', u'obama', u'hope', u'change', u'live', u'real', u'read', u'public', u'used', u'doesn', u'target', u'maybe', u'mr', u'end', u'got', u'support', u'country', u'look', u'having', u'isn', u'things', u'care', u'help', u'course', u'president', u'say', u'man', u'thing', u'think', u'going', u'power', u'really', u'great', u'doing', u'work', u'use', u'actually', u'does', u'state', u'did', u'children', u'republicans', u'women', u'years', u'world', u'away', u'america', u'party', u'yes', u'time', u'need', u'republican', u'person', u'sure', u'let', u'bad', u'just', u'fact', u'article', u'new', u'government', u'way', u'war', u'lot', u'make', u'free', u'place', u'political', u'right', u'old', u'big', u'high', u'far', u'law', u'title', u'little', u'better', u'said', u'americans', u'pay', u'good', u'money', u'day', u'come', u'believe', u'know']\n"
     ]
    }
   ],
   "source": [
    "stop_words = text.ENGLISH_STOP_WORDS.union(['didn', 've', 'don']) # add additional stop words\n",
    "corpus = commentsdf.commentBody.tolist()\n",
    "vectorizer = CountVectorizer(stop_words=stop_words, max_features=100, binary=True)\n",
    "bowmat = vectorizer.fit_transform(corpus) # bag of words matrix\n",
    "words = vectorizer.vocabulary_.keys()\n",
    "print words\n",
    "\n",
    "for i in range(100):\n",
    "    commentsdf['word{}_{}'.format(i, words[i])] = bowmat[:, i].toarray().flatten()"
   ]
  },
  {
   "cell_type": "markdown",
   "metadata": {},
   "source": [
    "### Tf-Idf"
   ]
  },
  {
   "cell_type": "markdown",
   "metadata": {},
   "source": [
    "We add a column to the dataframe composed of the average tf-idf score over all words in a comment."
   ]
  },
  {
   "cell_type": "code",
   "execution_count": 24,
   "metadata": {
    "collapsed": false
   },
   "outputs": [],
   "source": [
    "tfidf_vectorizer = TfidfVectorizer(stop_words=stop_words)\n",
    "tfidfmat = tfidf_vectorizer.fit_transform(corpus)\n",
    "commentsdf['tfidf'] = csr.sum(tfidfmat, axis=1)\n",
    "commentsdf['tfidf'] = commentsdf['tfidf'].div(commentsdf['commentWordCount'], axis='index')"
   ]
  },
  {
   "cell_type": "code",
   "execution_count": 25,
   "metadata": {
    "collapsed": false
   },
   "outputs": [
    {
     "data": {
      "text/plain": [
       "<matplotlib.axes._subplots.AxesSubplot at 0x115f2ea90>"
      ]
     },
     "execution_count": 25,
     "metadata": {},
     "output_type": "execute_result"
    },
    {
     "data": {
      "image/png": "[encoded data removed]",
      "text/plain": [
       "<matplotlib.figure.Figure at 0x1147cfe90>"
      ]
     },
     "metadata": {},
     "output_type": "display_data"
    }
   ],
   "source": [
    "sns.regplot(x='tfidf', y='recommendationCount', data=commentsdf, fit_reg=False)"
   ]
  },
  {
   "cell_type": "markdown",
   "metadata": {},
   "source": [
    "## Transforming variables"
   ]
  },
  {
   "cell_type": "code",
   "execution_count": 39,
   "metadata": {
    "collapsed": true
   },
   "outputs": [],
   "source": [
    "commentsdf['logrecommendationCount'] = np.log(commentsdf.recommendationCount + 1)  # + 1 to deal with log(0)\n",
    "commentsdf['logtfidf'] = np.log(commentsdf.tfidf)\n",
    "commentsdf['logpositive'] = np.log(commentsdf.positive_sentiment)\n",
    "commentsdf['lognegative'] = np.log(commentsdf.negative_sentiment)\n",
    "\n",
    "# Using arcsinh to easily handle extremities (zeroes)\n",
    "commentsdf['srecommendationCount'] = np.arcsinh(commentsdf.recommendationCount)\n",
    "commentsdf['stfidf'] = np.arcsinh(commentsdf.tfidf)\n",
    "commentsdf['spositive'] = np.arcsinh(commentsdf.positive_sentiment)\n",
    "commentsdf['snegative'] = np.arcsinh(commentsdf.negative_sentiment)"
   ]
  },
  {
   "cell_type": "code",
   "execution_count": 40,
   "metadata": {
    "collapsed": false
   },
   "outputs": [
    {
     "data": {
      "text/plain": [
       "<matplotlib.axes._subplots.AxesSubplot at 0x1222d6dd0>"
      ]
     },
     "execution_count": 40,
     "metadata": {},
     "output_type": "execute_result"
    },
    {
     "data": {
      "image/png": "[encoded data removed]",
      "text/plain": [
       "<matplotlib.figure.Figure at 0x122c0c150>"
      ]
     },
     "metadata": {},
     "output_type": "display_data"
    }
   ],
   "source": [
    "fig, axes = plt.subplots(1, 3)\n",
    "sns.regplot('tfidf', 'logrecommendationCount', data=commentsdf, fit_reg=False, ax=axes[0])\n",
    "sns.regplot('logtfidf', 'recommendationCount', data=commentsdf, fit_reg=False, ax=axes[1])\n",
    "sns.regplot('logtfidf', 'logrecommendationCount', data=commentsdf, fit_reg=False, ax=axes[2])"
   ]
  },
  {
   "cell_type": "code",
   "execution_count": 41,
   "metadata": {
    "collapsed": false
   },
   "outputs": [
    {
     "data": {
      "text/plain": [
       "<matplotlib.axes._subplots.AxesSubplot at 0x1223219d0>"
      ]
     },
     "execution_count": 41,
     "metadata": {},
     "output_type": "execute_result"
    },
    {
     "data": {
      "image/png": "[encoded data removed]",
      "text/plain": [
       "<matplotlib.figure.Figure at 0x122a6bdd0>"
      ]
     },
     "metadata": {},
     "output_type": "display_data"
    }
   ],
   "source": [
    "fig, axes = plt.subplots(1, 3)\n",
    "sns.regplot('tfidf', 'srecommendationCount', data=commentsdf, fit_reg=False, ax=axes[0])\n",
    "sns.regplot('stfidf', 'recommendationCount', data=commentsdf, fit_reg=False, ax=axes[1])\n",
    "sns.regplot('stfidf', 'srecommendationCount', data=commentsdf, fit_reg=False, ax=axes[2])"
   ]
  },
  {
   "cell_type": "markdown",
   "metadata": {},
   "source": [
    "# Final Analysis"
   ]
  },
  {
   "cell_type": "markdown",
   "metadata": {},
   "source": [
    "### Split data"
   ]
  },
  {
   "cell_type": "code",
   "execution_count": 46,
   "metadata": {
    "collapsed": true
   },
   "outputs": [],
   "source": [
    "# First, select relevant columns.\n",
    "data = commentsdf.ix[:, [3] + [8] + np.arange(25, 128).tolist()].as_matrix()\n",
    "label = commentsdf.recommendationCount.as_matrix()\n",
    "Xtrain, Xtest, ytrain, ytest = train_test_split(data, label)"
   ]
  },
  {
   "cell_type": "markdown",
   "metadata": {},
   "source": [
    "### XGBoost"
   ]
  },
  {
   "cell_type": "code",
   "execution_count": null,
   "metadata": {
    "collapsed": false,
    "scrolled": true
   },
   "outputs": [],
   "source": [
    "# XGBoost\n",
    "dtrain = xgb.DMatrix(Xtrain, label=ytrain)\n",
    "dtest = xgb.DMatrix(Xtest)\n",
    "\n",
    "# Set params to try to make the unbalanced dataset less bad\n",
    "params = {'bst:subsample': 0.7, 'bst:max_delta_step': 3}\n",
    "bst = xgb.train(params, dtrain, 500)\n",
    "ypred = bst.predict(dtest)\n",
    "print np.linalg.norm(ypred - ytest), np.linalg.norm(ypred - ytrain.mean()) # this is very bad"
   ]
  },
  {
   "cell_type": "markdown",
   "metadata": {
    "collapsed": true
   },
   "source": [
    "### Linear Regression"
   ]
  },
  {
   "cell_type": "code",
   "execution_count": 47,
   "metadata": {
    "collapsed": false
   },
   "outputs": [
    {
     "name": "stdout",
     "output_type": "stream",
     "text": [
      "R-squared: 0.0308410927172\n"
     ]
    }
   ],
   "source": [
    "regression = LinearRegression()\n",
    "regression.fit(Xtrain, ytrain)\n",
    "# y_predicted = regression.predict(Xtest)\n",
    "print \"R-squared:\", regression.score(Xtest, ytest)"
   ]
  },
  {
   "cell_type": "markdown",
   "metadata": {
    "collapsed": true
   },
   "source": [
    "### Random Forest Regressor & Classifier\n",
    "\n",
    "They are bad."
   ]
  },
  {
   "cell_type": "code",
   "execution_count": null,
   "metadata": {
    "collapsed": false
   },
   "outputs": [],
   "source": [
    "rf = RandomForestRegressor(n_estimators=20)\n",
    "rf.fit(Xtrain, ytrain)\n",
    "print rf.score(Xtest, ytest)"
   ]
  },
  {
   "cell_type": "code",
   "execution_count": null,
   "metadata": {
    "collapsed": false
   },
   "outputs": [],
   "source": [
    "binary_label = commentsdf.editorsSelection.as_matrix()\n",
    "Xtrain, Xtest, ytrain, ytest = train_test_split(data, binary_label)"
   ]
  },
  {
   "cell_type": "code",
   "execution_count": null,
   "metadata": {
    "collapsed": false
   },
   "outputs": [],
   "source": [
    "rfc = RandomForestClassifier(n_estimators=20)\n",
    "rf.fit(Xtrain, ytrain)\n",
    "print rf.score(Xtest, ytest)"
   ]
  },
  {
   "cell_type": "markdown",
   "metadata": {},
   "source": [
    "### Logistic Regression on Editors Selection"
   ]
  },
  {
   "cell_type": "code",
   "execution_count": null,
   "metadata": {
    "collapsed": false
   },
   "outputs": [],
   "source": [
    "from sklearn.linear_model import LogisticRegression\n",
    "from sklearn.metrics import confusion_matrix\n",
    "\n",
    "# I redid test and train...\n",
    "# First, select relevant columns.\n",
    "data = commentsdf.ix[:, [3] + [8] + np.arange(25, 128).tolist()].as_matrix()\n",
    "label = commentsdf.editorsSelection.as_matrix()\n",
    "Xtrain, Xtest, ytrain, ytest = train_test_split(data, label)\n",
    "\n",
    "\n",
    "# Run logistic regression\n",
    "logreg = LogisticRegression()\n",
    "logreg.fit(Xtrain, ytrain)\n",
    "ypred = logreg.predict(Xtest)\n",
    "\n",
    "print \"actual number of editors choices \", np.sum(ytest)\n",
    "print \"predicted number of editors choices \", np.sum(ypred)"
   ]
  },
  {
   "cell_type": "code",
   "execution_count": null,
   "metadata": {
    "collapsed": false
   },
   "outputs": [],
   "source": [
    "# Try adjusting our threshold\n",
    "def t_repredict(est,t, xtest):\n",
    "    probs=est.predict_proba(xtest)\n",
    "    p0 = probs[:,0]\n",
    "    p1 = probs[:,1]\n",
    "    ypred = (p1 > t)*1\n",
    "    return ypred\n",
    "\n",
    "print \"actual number of editors choice\",np.sum(ytest)\n",
    "print \"predicted number of editors choices t = 1: \", np.sum(t_repredict(logreg, .95, Xtest))\n",
    "print \"predicted number of editors choices t = 0.5: \", np.sum(t_repredict(logreg, 0.5, Xtest))\n",
    "print \"predicted number of editors choices t = 0.1: \", np.sum(t_repredict(logreg, 0.1, Xtest))\n",
    "print \"predicted number of editors choices t = 0.075: \", np.sum(t_repredict(logreg, 0.075, Xtest))\n",
    "print \"predicted number of editors choices t = 0.05: \", np.sum(t_repredict(logreg, 0.05, Xtest))\n",
    "print \"predicted number of editors choices t = 0.025: \", np.sum(t_repredict(logreg, 0.025, Xtest))"
   ]
  },
  {
   "cell_type": "code",
   "execution_count": null,
   "metadata": {
    "collapsed": false
   },
   "outputs": [],
   "source": [
    "# We see most of the predicted positives are false positives. only 164 positive positives. \n",
    "confusion_matrix(ytest,t_repredict(logreg, 0.075, Xtest))"
   ]
  },
  {
   "cell_type": "markdown",
   "metadata": {},
   "source": [
    "### Log-lin regression (Poisson)"
   ]
  },
  {
   "cell_type": "code",
   "execution_count": 43,
   "metadata": {
    "collapsed": false
   },
   "outputs": [
    {
     "data": {
      "text/html": [
       "<div>\n",
       "<table border=\"1\" class=\"dataframe\">\n",
       "  <thead>\n",
       "    <tr style=\"text-align: right;\">\n",
       "      <th></th>\n",
       "      <th>approveDate</th>\n",
       "      <th>assetID</th>\n",
       "      <th>assetURL</th>\n",
       "      <th>averageWordLength</th>\n",
       "      <th>commentBody</th>\n",
       "      <th>commentID</th>\n",
       "      <th>commentSequence</th>\n",
       "      <th>commentTitle</th>\n",
       "      <th>commentWordCount</th>\n",
       "      <th>createDate</th>\n",
       "      <th>editorsSelection</th>\n",
       "      <th>lft</th>\n",
       "      <th>parentID</th>\n",
       "      <th>recommendationCount</th>\n",
       "      <th>replies</th>\n",
       "      <th>replyCount</th>\n",
       "      <th>rgt</th>\n",
       "      <th>status</th>\n",
       "      <th>statusID</th>\n",
       "      <th>updateDate</th>\n",
       "      <th>userDisplayName</th>\n",
       "      <th>userID</th>\n",
       "      <th>userLocation</th>\n",
       "      <th>userTitle</th>\n",
       "      <th>userURL</th>\n",
       "      <th>positive_sentiment</th>\n",
       "      <th>negative_sentiment</th>\n",
       "      <th>word0_want</th>\n",
       "      <th>word1_wrong</th>\n",
       "      <th>word2_problem</th>\n",
       "      <th>word3_year</th>\n",
       "      <th>word4_american</th>\n",
       "      <th>word5_times</th>\n",
       "      <th>word6_point</th>\n",
       "      <th>word7_today</th>\n",
       "      <th>word8_like</th>\n",
       "      <th>word9_case</th>\n",
       "      <th>word10_long</th>\n",
       "      <th>word11_best</th>\n",
       "      <th>word12_life</th>\n",
       "      <th>word13_people</th>\n",
       "      <th>word14_states</th>\n",
       "      <th>word15_obama</th>\n",
       "      <th>word16_hope</th>\n",
       "      <th>word17_change</th>\n",
       "      <th>word18_live</th>\n",
       "      <th>word19_real</th>\n",
       "      <th>word20_read</th>\n",
       "      <th>word21_public</th>\n",
       "      <th>word22_used</th>\n",
       "      <th>...</th>\n",
       "      <th>word59_away</th>\n",
       "      <th>word60_america</th>\n",
       "      <th>word61_party</th>\n",
       "      <th>word62_yes</th>\n",
       "      <th>word63_time</th>\n",
       "      <th>word64_need</th>\n",
       "      <th>word65_republican</th>\n",
       "      <th>word66_person</th>\n",
       "      <th>word67_sure</th>\n",
       "      <th>word68_let</th>\n",
       "      <th>word69_bad</th>\n",
       "      <th>word70_just</th>\n",
       "      <th>word71_fact</th>\n",
       "      <th>word72_article</th>\n",
       "      <th>word73_new</th>\n",
       "      <th>word74_government</th>\n",
       "      <th>word75_way</th>\n",
       "      <th>word76_war</th>\n",
       "      <th>word77_lot</th>\n",
       "      <th>word78_make</th>\n",
       "      <th>word79_free</th>\n",
       "      <th>word80_place</th>\n",
       "      <th>word81_political</th>\n",
       "      <th>word82_right</th>\n",
       "      <th>word83_old</th>\n",
       "      <th>word84_big</th>\n",
       "      <th>word85_high</th>\n",
       "      <th>word86_far</th>\n",
       "      <th>word87_law</th>\n",
       "      <th>word88_title</th>\n",
       "      <th>word89_little</th>\n",
       "      <th>word90_better</th>\n",
       "      <th>word91_said</th>\n",
       "      <th>word92_americans</th>\n",
       "      <th>word93_pay</th>\n",
       "      <th>word94_good</th>\n",
       "      <th>word95_money</th>\n",
       "      <th>word96_day</th>\n",
       "      <th>word97_come</th>\n",
       "      <th>word98_believe</th>\n",
       "      <th>word99_know</th>\n",
       "      <th>tfidf</th>\n",
       "      <th>logrecommendationCount</th>\n",
       "      <th>logtfidf</th>\n",
       "      <th>logpositive</th>\n",
       "      <th>lognegative</th>\n",
       "      <th>srecommendationCount</th>\n",
       "      <th>stfidf</th>\n",
       "      <th>spositive</th>\n",
       "      <th>snegative</th>\n",
       "    </tr>\n",
       "  </thead>\n",
       "  <tbody>\n",
       "    <tr>\n",
       "      <th>0</th>\n",
       "      <td>1392613210</td>\n",
       "      <td>3394666</td>\n",
       "      <td>http://wordplay.blogs.nytimes.com/2014/02/15/p...</td>\n",
       "      <td>4.243243</td>\n",
       "      <td>pj, I love that your reply came up 3 times. Ha...</td>\n",
       "      <td>11177402</td>\n",
       "      <td>11177402</td>\n",
       "      <td>&lt;br/&gt;</td>\n",
       "      <td>37</td>\n",
       "      <td>1392613164</td>\n",
       "      <td>0</td>\n",
       "      <td>113</td>\n",
       "      <td>11175397</td>\n",
       "      <td>0</td>\n",
       "      <td>[]</td>\n",
       "      <td>0</td>\n",
       "      <td>114</td>\n",
       "      <td>approved</td>\n",
       "      <td>2</td>\n",
       "      <td>1392613210</td>\n",
       "      <td>Leapfinger</td>\n",
       "      <td>51284005</td>\n",
       "      <td>Durham, NC</td>\n",
       "      <td>NULL</td>\n",
       "      <td>NULL</td>\n",
       "      <td>0.068522</td>\n",
       "      <td>0.020037</td>\n",
       "      <td>0</td>\n",
       "      <td>0</td>\n",
       "      <td>0</td>\n",
       "      <td>0</td>\n",
       "      <td>0</td>\n",
       "      <td>0</td>\n",
       "      <td>0</td>\n",
       "      <td>0</td>\n",
       "      <td>1</td>\n",
       "      <td>0</td>\n",
       "      <td>0</td>\n",
       "      <td>0</td>\n",
       "      <td>0</td>\n",
       "      <td>0</td>\n",
       "      <td>0</td>\n",
       "      <td>0</td>\n",
       "      <td>0</td>\n",
       "      <td>0</td>\n",
       "      <td>0</td>\n",
       "      <td>0</td>\n",
       "      <td>0</td>\n",
       "      <td>0</td>\n",
       "      <td>1</td>\n",
       "      <td>...</td>\n",
       "      <td>0</td>\n",
       "      <td>0</td>\n",
       "      <td>0</td>\n",
       "      <td>0</td>\n",
       "      <td>0</td>\n",
       "      <td>0</td>\n",
       "      <td>0</td>\n",
       "      <td>0</td>\n",
       "      <td>0</td>\n",
       "      <td>0</td>\n",
       "      <td>0</td>\n",
       "      <td>0</td>\n",
       "      <td>0</td>\n",
       "      <td>0</td>\n",
       "      <td>0</td>\n",
       "      <td>0</td>\n",
       "      <td>0</td>\n",
       "      <td>0</td>\n",
       "      <td>0</td>\n",
       "      <td>0</td>\n",
       "      <td>0</td>\n",
       "      <td>0</td>\n",
       "      <td>0</td>\n",
       "      <td>0</td>\n",
       "      <td>1</td>\n",
       "      <td>0</td>\n",
       "      <td>1</td>\n",
       "      <td>0</td>\n",
       "      <td>0</td>\n",
       "      <td>0</td>\n",
       "      <td>0</td>\n",
       "      <td>0</td>\n",
       "      <td>0</td>\n",
       "      <td>1</td>\n",
       "      <td>0</td>\n",
       "      <td>0</td>\n",
       "      <td>0</td>\n",
       "      <td>0</td>\n",
       "      <td>0</td>\n",
       "      <td>0</td>\n",
       "      <td>0</td>\n",
       "      <td>0.087908</td>\n",
       "      <td>0.000000</td>\n",
       "      <td>-2.431464</td>\n",
       "      <td>-2.680603</td>\n",
       "      <td>-3.910165</td>\n",
       "      <td>0.000000</td>\n",
       "      <td>0.087795</td>\n",
       "      <td>0.068468</td>\n",
       "      <td>0.020036</td>\n",
       "    </tr>\n",
       "    <tr>\n",
       "      <th>1</th>\n",
       "      <td>1392613221</td>\n",
       "      <td>3394685</td>\n",
       "      <td>http://www.nytimes.com/2014/02/16/fashion/mill...</td>\n",
       "      <td>4.811594</td>\n",
       "      <td>I definitely agree that the reporter interview...</td>\n",
       "      <td>11177324</td>\n",
       "      <td>11177324</td>\n",
       "      <td>n/a</td>\n",
       "      <td>69</td>\n",
       "      <td>1392611149</td>\n",
       "      <td>0</td>\n",
       "      <td>408</td>\n",
       "      <td>NaN</td>\n",
       "      <td>26</td>\n",
       "      <td>{u'comments': [{u'recommendedFlag': 0, u'paren...</td>\n",
       "      <td>1</td>\n",
       "      <td>411</td>\n",
       "      <td>approved</td>\n",
       "      <td>2</td>\n",
       "      <td>1392613221</td>\n",
       "      <td>Casey L.</td>\n",
       "      <td>52213450</td>\n",
       "      <td>Tallahassee, FL</td>\n",
       "      <td>NULL</td>\n",
       "      <td>NULL</td>\n",
       "      <td>0.075430</td>\n",
       "      <td>0.033953</td>\n",
       "      <td>0</td>\n",
       "      <td>0</td>\n",
       "      <td>0</td>\n",
       "      <td>0</td>\n",
       "      <td>0</td>\n",
       "      <td>0</td>\n",
       "      <td>0</td>\n",
       "      <td>0</td>\n",
       "      <td>0</td>\n",
       "      <td>0</td>\n",
       "      <td>0</td>\n",
       "      <td>0</td>\n",
       "      <td>0</td>\n",
       "      <td>0</td>\n",
       "      <td>0</td>\n",
       "      <td>0</td>\n",
       "      <td>0</td>\n",
       "      <td>0</td>\n",
       "      <td>0</td>\n",
       "      <td>0</td>\n",
       "      <td>0</td>\n",
       "      <td>0</td>\n",
       "      <td>0</td>\n",
       "      <td>...</td>\n",
       "      <td>1</td>\n",
       "      <td>0</td>\n",
       "      <td>0</td>\n",
       "      <td>0</td>\n",
       "      <td>0</td>\n",
       "      <td>0</td>\n",
       "      <td>0</td>\n",
       "      <td>0</td>\n",
       "      <td>0</td>\n",
       "      <td>0</td>\n",
       "      <td>0</td>\n",
       "      <td>0</td>\n",
       "      <td>0</td>\n",
       "      <td>0</td>\n",
       "      <td>0</td>\n",
       "      <td>0</td>\n",
       "      <td>0</td>\n",
       "      <td>0</td>\n",
       "      <td>0</td>\n",
       "      <td>0</td>\n",
       "      <td>0</td>\n",
       "      <td>0</td>\n",
       "      <td>0</td>\n",
       "      <td>0</td>\n",
       "      <td>0</td>\n",
       "      <td>0</td>\n",
       "      <td>0</td>\n",
       "      <td>0</td>\n",
       "      <td>0</td>\n",
       "      <td>0</td>\n",
       "      <td>0</td>\n",
       "      <td>1</td>\n",
       "      <td>0</td>\n",
       "      <td>0</td>\n",
       "      <td>0</td>\n",
       "      <td>1</td>\n",
       "      <td>0</td>\n",
       "      <td>1</td>\n",
       "      <td>0</td>\n",
       "      <td>1</td>\n",
       "      <td>0</td>\n",
       "      <td>0.074930</td>\n",
       "      <td>3.295837</td>\n",
       "      <td>-2.591203</td>\n",
       "      <td>-2.584544</td>\n",
       "      <td>-3.382787</td>\n",
       "      <td>3.951613</td>\n",
       "      <td>0.074860</td>\n",
       "      <td>0.075359</td>\n",
       "      <td>0.033946</td>\n",
       "    </tr>\n",
       "    <tr>\n",
       "      <th>2</th>\n",
       "      <td>1392613225</td>\n",
       "      <td>3394685</td>\n",
       "      <td>http://www.nytimes.com/2014/02/16/fashion/mill...</td>\n",
       "      <td>3.600000</td>\n",
       "      <td>Well said, CF.  Well said.</td>\n",
       "      <td>11177331</td>\n",
       "      <td>11177331</td>\n",
       "      <td>&lt;br/&gt;</td>\n",
       "      <td>5</td>\n",
       "      <td>1392611304</td>\n",
       "      <td>0</td>\n",
       "      <td>303</td>\n",
       "      <td>11176805</td>\n",
       "      <td>8</td>\n",
       "      <td>[]</td>\n",
       "      <td>0</td>\n",
       "      <td>304</td>\n",
       "      <td>approved</td>\n",
       "      <td>2</td>\n",
       "      <td>1392613225</td>\n",
       "      <td>Dana</td>\n",
       "      <td>60343880</td>\n",
       "      <td>Tucson, AZ</td>\n",
       "      <td>NULL</td>\n",
       "      <td>NULL</td>\n",
       "      <td>0.125000</td>\n",
       "      <td>0.002778</td>\n",
       "      <td>0</td>\n",
       "      <td>0</td>\n",
       "      <td>0</td>\n",
       "      <td>0</td>\n",
       "      <td>0</td>\n",
       "      <td>0</td>\n",
       "      <td>0</td>\n",
       "      <td>0</td>\n",
       "      <td>0</td>\n",
       "      <td>0</td>\n",
       "      <td>0</td>\n",
       "      <td>0</td>\n",
       "      <td>0</td>\n",
       "      <td>0</td>\n",
       "      <td>0</td>\n",
       "      <td>0</td>\n",
       "      <td>0</td>\n",
       "      <td>0</td>\n",
       "      <td>0</td>\n",
       "      <td>0</td>\n",
       "      <td>0</td>\n",
       "      <td>0</td>\n",
       "      <td>0</td>\n",
       "      <td>...</td>\n",
       "      <td>0</td>\n",
       "      <td>0</td>\n",
       "      <td>0</td>\n",
       "      <td>0</td>\n",
       "      <td>0</td>\n",
       "      <td>0</td>\n",
       "      <td>0</td>\n",
       "      <td>0</td>\n",
       "      <td>0</td>\n",
       "      <td>0</td>\n",
       "      <td>0</td>\n",
       "      <td>0</td>\n",
       "      <td>0</td>\n",
       "      <td>0</td>\n",
       "      <td>0</td>\n",
       "      <td>1</td>\n",
       "      <td>0</td>\n",
       "      <td>0</td>\n",
       "      <td>0</td>\n",
       "      <td>0</td>\n",
       "      <td>0</td>\n",
       "      <td>0</td>\n",
       "      <td>0</td>\n",
       "      <td>0</td>\n",
       "      <td>0</td>\n",
       "      <td>0</td>\n",
       "      <td>0</td>\n",
       "      <td>0</td>\n",
       "      <td>0</td>\n",
       "      <td>0</td>\n",
       "      <td>0</td>\n",
       "      <td>0</td>\n",
       "      <td>0</td>\n",
       "      <td>0</td>\n",
       "      <td>0</td>\n",
       "      <td>0</td>\n",
       "      <td>0</td>\n",
       "      <td>0</td>\n",
       "      <td>0</td>\n",
       "      <td>0</td>\n",
       "      <td>0</td>\n",
       "      <td>0.282159</td>\n",
       "      <td>2.197225</td>\n",
       "      <td>-1.265284</td>\n",
       "      <td>-2.079442</td>\n",
       "      <td>-5.886104</td>\n",
       "      <td>2.776472</td>\n",
       "      <td>0.278543</td>\n",
       "      <td>0.124677</td>\n",
       "      <td>0.002778</td>\n",
       "    </tr>\n",
       "    <tr>\n",
       "      <th>3</th>\n",
       "      <td>1392613303</td>\n",
       "      <td>3394685</td>\n",
       "      <td>http://www.nytimes.com/2014/02/16/fashion/mill...</td>\n",
       "      <td>4.701149</td>\n",
       "      <td>Who are these people who are commenting, so sm...</td>\n",
       "      <td>11177382</td>\n",
       "      <td>11177382</td>\n",
       "      <td>&lt;br/&gt;</td>\n",
       "      <td>174</td>\n",
       "      <td>1392612709</td>\n",
       "      <td>0</td>\n",
       "      <td>412</td>\n",
       "      <td>NaN</td>\n",
       "      <td>104</td>\n",
       "      <td>{u'comments': [{u'recommendedFlag': 0, u'paren...</td>\n",
       "      <td>3</td>\n",
       "      <td>419</td>\n",
       "      <td>approved</td>\n",
       "      <td>2</td>\n",
       "      <td>1392613303</td>\n",
       "      <td>JM4</td>\n",
       "      <td>6671866</td>\n",
       "      <td>Bellingham, WA</td>\n",
       "      <td>NULL</td>\n",
       "      <td>NULL</td>\n",
       "      <td>0.065380</td>\n",
       "      <td>0.040202</td>\n",
       "      <td>0</td>\n",
       "      <td>0</td>\n",
       "      <td>0</td>\n",
       "      <td>0</td>\n",
       "      <td>0</td>\n",
       "      <td>0</td>\n",
       "      <td>0</td>\n",
       "      <td>0</td>\n",
       "      <td>0</td>\n",
       "      <td>0</td>\n",
       "      <td>0</td>\n",
       "      <td>0</td>\n",
       "      <td>0</td>\n",
       "      <td>0</td>\n",
       "      <td>0</td>\n",
       "      <td>0</td>\n",
       "      <td>0</td>\n",
       "      <td>0</td>\n",
       "      <td>0</td>\n",
       "      <td>0</td>\n",
       "      <td>1</td>\n",
       "      <td>0</td>\n",
       "      <td>0</td>\n",
       "      <td>...</td>\n",
       "      <td>1</td>\n",
       "      <td>1</td>\n",
       "      <td>0</td>\n",
       "      <td>0</td>\n",
       "      <td>0</td>\n",
       "      <td>0</td>\n",
       "      <td>0</td>\n",
       "      <td>1</td>\n",
       "      <td>0</td>\n",
       "      <td>0</td>\n",
       "      <td>0</td>\n",
       "      <td>0</td>\n",
       "      <td>0</td>\n",
       "      <td>0</td>\n",
       "      <td>1</td>\n",
       "      <td>0</td>\n",
       "      <td>0</td>\n",
       "      <td>0</td>\n",
       "      <td>0</td>\n",
       "      <td>0</td>\n",
       "      <td>0</td>\n",
       "      <td>0</td>\n",
       "      <td>0</td>\n",
       "      <td>0</td>\n",
       "      <td>1</td>\n",
       "      <td>0</td>\n",
       "      <td>0</td>\n",
       "      <td>0</td>\n",
       "      <td>1</td>\n",
       "      <td>0</td>\n",
       "      <td>0</td>\n",
       "      <td>0</td>\n",
       "      <td>0</td>\n",
       "      <td>0</td>\n",
       "      <td>0</td>\n",
       "      <td>1</td>\n",
       "      <td>1</td>\n",
       "      <td>0</td>\n",
       "      <td>1</td>\n",
       "      <td>0</td>\n",
       "      <td>0</td>\n",
       "      <td>0.043917</td>\n",
       "      <td>4.653960</td>\n",
       "      <td>-3.125462</td>\n",
       "      <td>-2.727533</td>\n",
       "      <td>-3.213831</td>\n",
       "      <td>5.337561</td>\n",
       "      <td>0.043903</td>\n",
       "      <td>0.065334</td>\n",
       "      <td>0.040191</td>\n",
       "    </tr>\n",
       "    <tr>\n",
       "      <th>4</th>\n",
       "      <td>1392613365</td>\n",
       "      <td>3394610</td>\n",
       "      <td>http://www.nytimes.com/2014/02/16/nyregion/add...</td>\n",
       "      <td>4.463415</td>\n",
       "      <td>To all you pain suffers, let me tell to you my...</td>\n",
       "      <td>11177369</td>\n",
       "      <td>11177369</td>\n",
       "      <td>&lt;br/&gt;</td>\n",
       "      <td>164</td>\n",
       "      <td>1392612359</td>\n",
       "      <td>0</td>\n",
       "      <td>294</td>\n",
       "      <td>NaN</td>\n",
       "      <td>2</td>\n",
       "      <td>{u'comments': [{u'recommendedFlag': 0, u'paren...</td>\n",
       "      <td>1</td>\n",
       "      <td>297</td>\n",
       "      <td>approved</td>\n",
       "      <td>2</td>\n",
       "      <td>1392613365</td>\n",
       "      <td>Vincent from Westchester</td>\n",
       "      <td>56242144</td>\n",
       "      <td>White Plains</td>\n",
       "      <td>NULL</td>\n",
       "      <td>NULL</td>\n",
       "      <td>0.053066</td>\n",
       "      <td>0.088692</td>\n",
       "      <td>0</td>\n",
       "      <td>0</td>\n",
       "      <td>0</td>\n",
       "      <td>0</td>\n",
       "      <td>0</td>\n",
       "      <td>1</td>\n",
       "      <td>0</td>\n",
       "      <td>0</td>\n",
       "      <td>0</td>\n",
       "      <td>0</td>\n",
       "      <td>0</td>\n",
       "      <td>0</td>\n",
       "      <td>0</td>\n",
       "      <td>0</td>\n",
       "      <td>0</td>\n",
       "      <td>0</td>\n",
       "      <td>0</td>\n",
       "      <td>0</td>\n",
       "      <td>1</td>\n",
       "      <td>1</td>\n",
       "      <td>0</td>\n",
       "      <td>0</td>\n",
       "      <td>0</td>\n",
       "      <td>...</td>\n",
       "      <td>0</td>\n",
       "      <td>0</td>\n",
       "      <td>0</td>\n",
       "      <td>0</td>\n",
       "      <td>0</td>\n",
       "      <td>0</td>\n",
       "      <td>0</td>\n",
       "      <td>0</td>\n",
       "      <td>0</td>\n",
       "      <td>0</td>\n",
       "      <td>0</td>\n",
       "      <td>0</td>\n",
       "      <td>0</td>\n",
       "      <td>0</td>\n",
       "      <td>1</td>\n",
       "      <td>0</td>\n",
       "      <td>0</td>\n",
       "      <td>0</td>\n",
       "      <td>0</td>\n",
       "      <td>0</td>\n",
       "      <td>0</td>\n",
       "      <td>0</td>\n",
       "      <td>0</td>\n",
       "      <td>0</td>\n",
       "      <td>0</td>\n",
       "      <td>0</td>\n",
       "      <td>0</td>\n",
       "      <td>0</td>\n",
       "      <td>0</td>\n",
       "      <td>0</td>\n",
       "      <td>0</td>\n",
       "      <td>0</td>\n",
       "      <td>0</td>\n",
       "      <td>0</td>\n",
       "      <td>0</td>\n",
       "      <td>0</td>\n",
       "      <td>0</td>\n",
       "      <td>0</td>\n",
       "      <td>1</td>\n",
       "      <td>1</td>\n",
       "      <td>0</td>\n",
       "      <td>0.039264</td>\n",
       "      <td>1.098612</td>\n",
       "      <td>-3.237444</td>\n",
       "      <td>-2.936210</td>\n",
       "      <td>-2.422587</td>\n",
       "      <td>1.443635</td>\n",
       "      <td>0.039254</td>\n",
       "      <td>0.053042</td>\n",
       "      <td>0.088576</td>\n",
       "    </tr>\n",
       "  </tbody>\n",
       "</table>\n",
       "<p>5 rows × 136 columns</p>\n",
       "</div>"
      ],
      "text/plain": [
       "  approveDate  assetID                                           assetURL  averageWordLength                                        commentBody  commentID  commentSequence commentTitle  commentWordCount  createDate  editorsSelection  lft  parentID  recommendationCount                                            replies  replyCount  rgt    status  statusID  updateDate           userDisplayName    userID     userLocation userTitle userURL  positive_sentiment  negative_sentiment  word0_want  \\\n",
       "0  1392613210  3394666  http://wordplay.blogs.nytimes.com/2014/02/15/p...           4.243243  pj, I love that your reply came up 3 times. Ha...   11177402         11177402        <br/>                37  1392613164                 0  113  11175397                    0                                                 []           0  114  approved         2  1392613210                Leapfinger  51284005       Durham, NC      NULL    NULL            0.068522            0.020037           0   \n",
       "1  1392613221  3394685  http://www.nytimes.com/2014/02/16/fashion/mill...           4.811594  I definitely agree that the reporter interview...   11177324         11177324          n/a                69  1392611149                 0  408       NaN                   26  {u'comments': [{u'recommendedFlag': 0, u'paren...           1  411  approved         2  1392613221                  Casey L.  52213450  Tallahassee, FL      NULL    NULL            0.075430            0.033953           0   \n",
       "2  1392613225  3394685  http://www.nytimes.com/2014/02/16/fashion/mill...           3.600000                         Well said, CF.  Well said.   11177331         11177331        <br/>                 5  1392611304                 0  303  11176805                    8                                                 []           0  304  approved         2  1392613225                      Dana  60343880       Tucson, AZ      NULL    NULL            0.125000            0.002778           0   \n",
       "3  1392613303  3394685  http://www.nytimes.com/2014/02/16/fashion/mill...           4.701149  Who are these people who are commenting, so sm...   11177382         11177382        <br/>               174  1392612709                 0  412       NaN                  104  {u'comments': [{u'recommendedFlag': 0, u'paren...           3  419  approved         2  1392613303                       JM4   6671866   Bellingham, WA      NULL    NULL            0.065380            0.040202           0   \n",
       "4  1392613365  3394610  http://www.nytimes.com/2014/02/16/nyregion/add...           4.463415  To all you pain suffers, let me tell to you my...   11177369         11177369        <br/>               164  1392612359                 0  294       NaN                    2  {u'comments': [{u'recommendedFlag': 0, u'paren...           1  297  approved         2  1392613365  Vincent from Westchester  56242144     White Plains      NULL    NULL            0.053066            0.088692           0   \n",
       "\n",
       "   word1_wrong  word2_problem  word3_year  word4_american  word5_times  word6_point  word7_today  word8_like  word9_case  word10_long  word11_best  word12_life  word13_people  word14_states  word15_obama  word16_hope  word17_change  word18_live  word19_real  word20_read  word21_public  word22_used    ...      word59_away  word60_america  word61_party  word62_yes  word63_time  word64_need  word65_republican  word66_person  word67_sure  word68_let  word69_bad  word70_just  word71_fact  \\\n",
       "0            0              0           0               0            0            0            0           1           0            0            0            0              0              0             0            0              0            0            0            0              0            1    ...                0               0             0           0            0            0                  0              0            0           0           0            0            0   \n",
       "1            0              0           0               0            0            0            0           0           0            0            0            0              0              0             0            0              0            0            0            0              0            0    ...                1               0             0           0            0            0                  0              0            0           0           0            0            0   \n",
       "2            0              0           0               0            0            0            0           0           0            0            0            0              0              0             0            0              0            0            0            0              0            0    ...                0               0             0           0            0            0                  0              0            0           0           0            0            0   \n",
       "3            0              0           0               0            0            0            0           0           0            0            0            0              0              0             0            0              0            0            0            1              0            0    ...                1               1             0           0            0            0                  0              1            0           0           0            0            0   \n",
       "4            0              0           0               0            1            0            0           0           0            0            0            0              0              0             0            0              0            1            1            0              0            0    ...                0               0             0           0            0            0                  0              0            0           0           0            0            0   \n",
       "\n",
       "   word72_article  word73_new  word74_government  word75_way  word76_war  word77_lot  word78_make  word79_free  word80_place  word81_political  word82_right  word83_old  word84_big  word85_high  word86_far  word87_law  word88_title  word89_little  word90_better  word91_said  word92_americans  word93_pay  word94_good  word95_money  word96_day  word97_come  word98_believe  word99_know     tfidf  logrecommendationCount  logtfidf  logpositive  lognegative  srecommendationCount    stfidf  \\\n",
       "0               0           0                  0           0           0           0            0            0             0                 0             0           1           0            1           0           0             0              0              0            0                 1           0            0             0           0            0               0            0  0.087908                0.000000 -2.431464    -2.680603    -3.910165              0.000000  0.087795   \n",
       "1               0           0                  0           0           0           0            0            0             0                 0             0           0           0            0           0           0             0              0              1            0                 0           0            1             0           1            0               1            0  0.074930                3.295837 -2.591203    -2.584544    -3.382787              3.951613  0.074860   \n",
       "2               0           0                  1           0           0           0            0            0             0                 0             0           0           0            0           0           0             0              0              0            0                 0           0            0             0           0            0               0            0  0.282159                2.197225 -1.265284    -2.079442    -5.886104              2.776472  0.278543   \n",
       "3               0           1                  0           0           0           0            0            0             0                 0             0           1           0            0           0           1             0              0              0            0                 0           0            1             1           0            1               0            0  0.043917                4.653960 -3.125462    -2.727533    -3.213831              5.337561  0.043903   \n",
       "4               0           1                  0           0           0           0            0            0             0                 0             0           0           0            0           0           0             0              0              0            0                 0           0            0             0           0            1               1            0  0.039264                1.098612 -3.237444    -2.936210    -2.422587              1.443635  0.039254   \n",
       "\n",
       "   spositive  snegative  \n",
       "0   0.068468   0.020036  \n",
       "1   0.075359   0.033946  \n",
       "2   0.124677   0.002778  \n",
       "3   0.065334   0.040191  \n",
       "4   0.053042   0.088576  \n",
       "\n",
       "[5 rows x 136 columns]"
      ]
     },
     "execution_count": 43,
     "metadata": {},
     "output_type": "execute_result"
    }
   ],
   "source": [
    "commentsdf.head()"
   ]
  },
  {
   "cell_type": "code",
   "execution_count": 52,
   "metadata": {
    "collapsed": false
   },
   "outputs": [
    {
     "name": "stdout",
     "output_type": "stream",
     "text": [
      "R-squared: 0.0920920502392\n"
     ]
    }
   ],
   "source": [
    "# This model does regular log-lin regression\n",
    "data = commentsdf.ix[:, [3, 8, 25, 26, 127] + range(27, 127)].as_matrix()\n",
    "label = commentsdf.logrecommendationCount.as_matrix()\n",
    "Xtrain, Xtest, ytrain, ytest = train_test_split(data, label)\n",
    "\n",
    "regression = LinearRegression()\n",
    "regression.fit(Xtrain, ytrain)\n",
    "# y_predicted = regression.predict(Xtest)\n",
    "print \"R-squared:\", regression.score(Xtest, ytest)"
   ]
  },
  {
   "cell_type": "markdown",
   "metadata": {},
   "source": [
    "Now we're talking"
   ]
  },
  {
   "cell_type": "code",
   "execution_count": 53,
   "metadata": {
    "collapsed": false
   },
   "outputs": [
    {
     "name": "stdout",
     "output_type": "stream",
     "text": [
      "R-squared: 0.0890729514935\n"
     ]
    }
   ],
   "source": [
    "# This model does arcsinh-lin regression, just to try\n",
    "data = commentsdf.ix[:, [3, 8, 25, 26, 127] + range(27, 127)].as_matrix()\n",
    "label = commentsdf.srecommendationCount.as_matrix()\n",
    "Xtrain, Xtest, ytrain, ytest = train_test_split(data, label)\n",
    "\n",
    "regression = LinearRegression()\n",
    "regression.fit(Xtrain, ytrain)\n",
    "# y_predicted = regression.predict(Xtest)\n",
    "print \"R-squared:\", regression.score(Xtest, ytest)"
   ]
  },
  {
   "cell_type": "markdown",
   "metadata": {},
   "source": [
    "No improvement..."
   ]
  },
  {
   "cell_type": "markdown",
   "metadata": {},
   "source": [
    "### Log-log/lin regression (some variables are logged others not)"
   ]
  },
  {
   "cell_type": "code",
   "execution_count": 54,
   "metadata": {
    "collapsed": false
   },
   "outputs": [
    {
     "name": "stdout",
     "output_type": "stream",
     "text": [
      "R-squared: 0.0851882105731\n"
     ]
    }
   ],
   "source": [
    "# This model uses arcsinh to deal with zero values on tfidf and sentiment\n",
    "data = commentsdf.ix[:, [3, 8, 133, 134, 135] + range(27, 127)].as_matrix()\n",
    "label = commentsdf.logrecommendationCount.as_matrix()\n",
    "Xtrain, Xtest, ytrain, ytest = train_test_split(data, label)\n",
    "\n",
    "regression = LinearRegression()\n",
    "regression.fit(Xtrain, ytrain)\n",
    "# y_predicted = regression.predict(Xtest)\n",
    "print \"R-squared:\", regression.score(Xtest, ytest)"
   ]
  },
  {
   "cell_type": "markdown",
   "metadata": {},
   "source": [
    "Log-log didn't enhance the regression :("
   ]
  },
  {
   "cell_type": "markdown",
   "metadata": {},
   "source": [
    "## Rerun Random Forest with logged recommendation count"
   ]
  },
  {
   "cell_type": "code",
   "execution_count": null,
   "metadata": {
    "collapsed": false
   },
   "outputs": [],
   "source": [
    "data = commentsdf.ix[:, [3, 8, 25, 26, 127] + range(27, 127)].as_matrix()\n",
    "label = commentsdf.logrecommendationCount.as_matrix()\n",
    "Xtrain, Xtest, ytrain, ytest = train_test_split(data, label)\n",
    "\n",
    "rf = RandomForestRegressor(n_estimators=20)\n",
    "rf.fit(Xtrain, ytrain)\n",
    "print rf.score(Xtest, ytest)"
   ]
  },
  {
   "cell_type": "code",
   "execution_count": null,
   "metadata": {
    "collapsed": true
   },
   "outputs": [],
   "source": []
  }
 ],
 "metadata": {
  "kernelspec": {
   "display_name": "Python 2",
   "language": "python",
   "name": "python2"
  },
  "language_info": {
   "codemirror_mode": {
    "name": "ipython",
    "version": 2
   },
   "file_extension": ".py",
   "mimetype": "text/x-python",
   "name": "python",
   "nbconvert_exporter": "python",
   "pygments_lexer": "ipython2",
   "version": "2.7.6"
  }
 },
 "nbformat": 4,
 "nbformat_minor": 0
}
