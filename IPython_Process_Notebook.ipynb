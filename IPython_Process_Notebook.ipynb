{
 "cells": [
  {
   "cell_type": "markdown",
   "metadata": {},
   "source": [
    "## Predicting a Successful New York Times Article Comment"
   ]
  },
  {
   "cell_type": "markdown",
   "metadata": {},
   "source": [
    "IPython Process Book\n",
    "\n",
    "An important part of your project is your iPython process book. Your process book details your steps in developing your solution, including how you collected the data, alternative solutions you tried, describing statistical methods you used, and the insights you got. Equally important to your final results is how you got there! Your process book is the place you describe and document the space of possibilities you explored at each step of your project. We strongly advise you to include many visualizations in your process book.Your process book should include the following topics. Depending on your project type the amount of discussion you devote to each of them will vary:\n",
    "\n",
    "\n",
    "<strong>Overview and Motivation</strong>: Provide an overview of the project goals and the motivation for it. Consider that this will be read by people who did not see your project proposal.\n",
    "\n",
    "<strong>Related Work</strong>: Anything that inspired you, such as a paper, a web site, or something we discussed in class.\n",
    "\n",
    "<strong>Initial Questions</strong>: What questions are you trying to answer? How did these questions evolve over the course of the project? What new questions did you consider in the course of your analysis?\n",
    "\n",
    "<strong>Data</strong>: Source, scraping method, cleanup, storage, etc.\n",
    "\n",
    "<strong>Exploratory Data Analysis</strong>: What visualizations did you use to look at your data in different ways? What are the different statistical methods you considered? Justify the decisions you made, and show any major changes to your ideas. How did you reach these conclusions?\n",
    "\n",
    "<strong>Final Analysis</strong>: What did you learn about the data? How did you answer the questions? How can you justify your answers?\n",
    "\n",
    "<strong>Presentation</strong>: Present your final results in a compelling and engaging way using text, visualizations, images, and videos on your project web site."
   ]
  },
  {
   "cell_type": "markdown",
   "metadata": {},
   "source": [
    "# Overview and Motivation"
   ]
  },
  {
   "cell_type": "markdown",
   "metadata": {},
   "source": [
    "# Related Work"
   ]
  },
  {
   "cell_type": "markdown",
   "metadata": {},
   "source": [
    "# Initial Questions"
   ]
  },
  {
   "cell_type": "markdown",
   "metadata": {},
   "source": [
    "# Data"
   ]
  },
  {
   "cell_type": "code",
   "execution_count": null,
   "metadata": {
    "collapsed": true
   },
   "outputs": [],
   "source": [
    "# After a few requests, comments_data.content is the generic New York Times error page, but\n",
    "# comments_data does not have a 404 response or anything. It's a valid request, but NY Times\n",
    "# can't process it for whatever reason. The rate limit is 30 calls/second and 5000/day, so\n",
    "# that's not the issue. See if you can get it to work, I guess.\n",
    "#\n",
    "# I used simplejson, which you can install with pip, because it gives better error messages,\n",
    "# but you can just replace simplejson with json and it should work the same.\n",
    "\n",
    "import requests, time, simplejson, sys\n",
    "from datetime import date, datetime, timedelta\n",
    "def perdelta(start, end, delta):\n",
    "    curr = start\n",
    "    while curr < end:\n",
    "        yield curr\n",
    "        curr += delta\n",
    "\n",
    "# Scrape 300 comments per day from Nov. 1, 2014 to Oct. 31, 2015\n",
    "comments = []\n",
    "for da in perdelta(date(2014, 11, 1), date(2015, 11, 1), timedelta(days=1)):\n",
    "    print da\n",
    "    for i in range(12):\n",
    "        url = ('http://api.nytimes.com/svc/community/v3/user-content/' +\n",
    "               'by-date.json?api-key=PUTYOURAPIKEYHERE&date=' + str(da) + # put your API key in here\n",
    "               '&offset=' + str(25*i))\n",
    "        comments_data = requests.get(url)\n",
    "        try:\n",
    "            data = simplejson.loads(comments_data.content) # error happens here\n",
    "        except:\n",
    "            print url, comments_data, comments_data.content\n",
    "            sys.exit()\n",
    "        for d in data['results']['comments']:\n",
    "            comments.append(d)\n",
    "        time.sleep(2)\n",
    "\n",
    "# Save the data\n",
    "with open(\"comments.json\", 'w') as f:\n",
    "    simplejson.dump(comments, f)\n",
    "\n",
    "# Uncomment for error-tolerant version\n",
    "#\n",
    "# for da in perdelta(date(2014, 11, 5), date(2015, 11, 1), timedelta(days=1)):\n",
    "#     comments = []\n",
    "#     print da\n",
    "#     for i in range(12):\n",
    "#         success = False\n",
    "#         url = ('http://api.nytimes.com/svc/community/v3/user-content/' +\n",
    "#                'by-date.json?api-key=KEY&date=' + str(da) +\n",
    "#                '&offset=' + str(25*i))\n",
    "#         while not success:\n",
    "#             comments_data = requests.get(url)\n",
    "#             try:\n",
    "#                 data = simplejson.loads(comments_data.content)\n",
    "#                 success = True\n",
    "#                 for d in data['results']['comments']:\n",
    "#                     comments.append(d)\n",
    "#                 time.sleep(2)\n",
    "#             except:\n",
    "#                 print 'error on {}'.format(str(da))\n",
    "#                 print url\n",
    "#                 time.sleep(2)\n",
    "                \n",
    "#     filestr = 'comments {}.json'.format(str(da))\n",
    "#     with open(filestr, 'w') as f:\n",
    "#         simplejson.dump(comments, f)"
   ]
  },
  {
   "cell_type": "markdown",
   "metadata": {},
   "source": [
    "#  Exploratory Analysis"
   ]
  },
  {
   "cell_type": "markdown",
   "metadata": {},
   "source": [
    "# Final Analysis"
   ]
  },
  {
   "cell_type": "code",
   "execution_count": null,
   "metadata": {
    "collapsed": true
   },
   "outputs": [],
   "source": []
  }
 ],
 "metadata": {
  "kernelspec": {
   "display_name": "Python 2",
   "language": "python",
   "name": "python2"
  },
  "language_info": {
   "codemirror_mode": {
    "name": "ipython",
    "version": 2
   },
   "file_extension": ".py",
   "mimetype": "text/x-python",
   "name": "python",
   "nbconvert_exporter": "python",
   "pygments_lexer": "ipython2",
   "version": "2.7.10"
  }
 },
 "nbformat": 4,
 "nbformat_minor": 0
}
